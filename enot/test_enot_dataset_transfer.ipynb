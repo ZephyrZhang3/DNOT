{
    "cells": [
        {
            "cell_type": "markdown",
            "metadata": {},
            "source": [
                "## 1. Imports\n"
            ]
        },
        {
            "cell_type": "code",
            "execution_count": null,
            "metadata": {},
            "outputs": [],
            "source": [
                "import os\n",
                "import sys\n",
                "import gc\n",
                "import warnings\n",
                "\n",
                "import torch\n",
                "import torchvision\n",
                "import numpy as np\n",
                "import matplotlib.pyplot as plt\n",
                "\n",
                "from torchvision.transforms import Compose, ToTensor, Resize, Normalize, Lambda\n",
                "from PIL import PngImagePlugin\n",
                "\n",
                "from IPython.display import clear_output\n",
                "\n",
                "sys.path.append(\"..\")\n",
                "from src.enot import SDE\n",
                "from src.cunet import CUNet\n",
                "from src.mnistm_utils import MNISTM\n",
                "from src.fid_score import calculate_frechet_distance\n",
                "from src.tools import (\n",
                "    set_random_seed,\n",
                "    get_loader_stats,\n",
                "    get_sde_pushed_loader_stats,\n",
                "    get_sde_pushed_loader_accuracy,\n",
                "    get_sde_pushed_loader_metrics,\n",
                ")\n",
                "from src.plotters import (\n",
                "    plot_sde_pushed_images,\n",
                "    plot_sde_pushed_random_class_images,\n",
                ")\n",
                "from src.samplers import (\n",
                "    SubsetGuidedSampler,\n",
                "    SubsetGuidedDataset,\n",
                "    get_indicies_subset,\n",
                ")\n",
                "\n",
                "LARGE_ENOUGH_NUMBER = 100\n",
                "PngImagePlugin.MAX_TEXT_CHUNK = LARGE_ENOUGH_NUMBER * (1024**2)\n",
                "\n",
                "warnings.filterwarnings(\"ignore\")\n",
                "\n",
                "%matplotlib inline "
            ]
        },
        {
            "cell_type": "code",
            "execution_count": null,
            "metadata": {},
            "outputs": [],
            "source": [
                "gc.collect()\n",
                "torch.cuda.empty_cache()"
            ]
        },
        {
            "cell_type": "markdown",
            "metadata": {},
            "source": [
                "## 2. Init Config\n",
                "\n",
                "the config file `config.json` is saved at saved_models/EXP_NAME/\n"
            ]
        },
        {
            "cell_type": "code",
            "execution_count": null,
            "metadata": {
                "tags": [
                    "parameters"
                ]
            },
            "outputs": [],
            "source": [
                "SEED = 0x3060\n",
                "set_random_seed(SEED)\n",
                "\n",
                "# dataset choosing\n",
                "DATASET, DATASET_PATH = \"fmnist2mnist\", \"../datasets/\"\n",
                "# DATASET, DATASET_PATH = \"mnist2mnistm\", \"../datasets/\"\n",
                "# DATASET, DATASET_PATH = \"mnist2usps\", \"../datasets/\"\n",
                "# DATASET, DATASET_PATH = \"mnist2kmnist\", \"../datasets/\"\n",
                "\n",
                "IMG_SIZE = 32\n",
                "DATASET1_CHANNELS = 1\n",
                "DATASET2_CHANNELS = 1\n",
                "\n",
                "# GPU choosing\n",
                "DEVICE_IDS = [0]\n",
                "assert torch.cuda.is_available()\n",
                "\n",
                "CONTINUE = 0\n",
                "\n",
                "# All hyperparameters below is set to the values used for the experiments, which discribed in the article\n",
                "\n",
                "# training algorithm settings\n",
                "BATCH_SIZE = 32\n",
                "SUBSET_SIZE = 2  # 2 for testing\n",
                "NUM_LABELED = 10  # num of labeled target in training set\n",
                "\n",
                "T_ITERS = 10\n",
                "MAX_STEPS = 2500 + 1  # 2501 for testing\n",
                "INTEGRAL_SCALE = 1 / (3 * IMG_SIZE * IMG_SIZE)\n",
                "EPSILON_SCHEDULER_LAST_ITER = 20000\n",
                "\n",
                "# optimizer settings\n",
                "D_LR, T_LR = 1e-4, 1e-4\n",
                "BETA_D, BETA_T = 0.9, 0.9\n",
                "T_GRADIENT_MAX_NORM = float(500)\n",
                "D_GRADIENT_MAX_NORM = float(500)\n",
                "\n",
                "# SDE network settings\n",
                "EPSILON = 0  # [0 , 1, 10]\n",
                "IMAGE_INPUT = True\n",
                "PREDICT_SHIFT = True\n",
                "N_STEPS = 5  #\n",
                "UNET_BASE_FACTOR = 128\n",
                "TIME_DIM = 128\n",
                "USE_POSITIONAL_ENCODING = True\n",
                "ONE_STEP_INIT_ITERS = 0\n",
                "USE_GRADIENT_CHECKPOINT = False\n",
                "N_LAST_STEPS_WITHOUT_NOISE = 1\n",
                "\n",
                "# plot settings\n",
                "GRAY_PLOTS = True\n",
                "STEPS_TO_SHOW = 10\n",
                "\n",
                "# log settings\n",
                "SMART_INTERVALS = False\n",
                "INTERVAL_SHRINK_START_TIME = 0.98\n",
                "TRACK_VAR_INTERVAL = 100\n",
                "PLOT_INTERVAL = 500\n",
                "CPKT_INTERVAL = 500\n",
                "\n",
                "FID_EPOCHS = 1\n",
                "\n",
                "EXP_NAME = f\"ENOT_Class_{DATASET}_{SEED}\"\n",
                "LOAD_PATH = f\"../saved_models/{EXP_NAME}/\"\n",
                "\n",
                "if not os.path.exists(LOAD_PATH):\n",
                "    raise \"no such file or directory\""
            ]
        },
        {
            "cell_type": "code",
            "execution_count": null,
            "metadata": {},
            "outputs": [],
            "source": [
                "source_subset = torch.tensor([0, 1, 2, 3, 4, 5, 6, 7, 8, 9])\n",
                "new_labels_source = {0: 0, 1: 1, 2: 2, 3: 3, 4: 4, 5: 5, 6: 6, 7: 7, 8: 8, 9: 9}\n",
                "target_subset = torch.tensor([0, 1, 2, 3, 4, 5, 6, 7, 8, 9])\n",
                "new_labels_target = {0: 0, 1: 1, 2: 2, 3: 3, 4: 4, 5: 5, 6: 6, 7: 7, 8: 8, 9: 9}"
            ]
        },
        {
            "cell_type": "code",
            "execution_count": null,
            "metadata": {},
            "outputs": [],
            "source": [
                "classifier = torchvision.models.resnet18()\n",
                "classifier.fc = torch.nn.Linear(in_features=512, out_features=10, bias=True)\n",
                "\n",
                "source_transform = Compose(\n",
                "    [\n",
                "        Resize((IMG_SIZE, IMG_SIZE)),\n",
                "        ToTensor(),\n",
                "        Normalize((0.5), (0.5)),\n",
                "    ]\n",
                ")\n",
                "target_transform = source_transform\n",
                "\n",
                "if DATASET == \"mnist2kmnist\":\n",
                "    source = torchvision.datasets.MNIST\n",
                "    target = torchvision.datasets.KMNIST\n",
                "    classifier.conv1 = torch.nn.Conv2d(\n",
                "        1, 64, kernel_size=(7, 7), stride=(2, 2), padding=(3, 3), bias=False\n",
                "    )\n",
                "    classifier.load_state_dict(torch.load(\"../saved_models/classifiers/kmnist.pt\"))\n",
                "\n",
                "elif DATASET == \"fmnist2mnist\":\n",
                "    source = torchvision.datasets.FashionMNIST\n",
                "    target = torchvision.datasets.MNIST\n",
                "    classifier.conv1 = torch.nn.Conv2d(\n",
                "        1, 64, kernel_size=(7, 7), stride=(2, 2), padding=(3, 3), bias=False\n",
                "    )\n",
                "    classifier.load_state_dict(torch.load(\"../saved_models/classifiers/mnist.pt\"))\n",
                "\n",
                "elif DATASET == \"mnist2usps\":\n",
                "    source = torchvision.datasets.MNIST\n",
                "    target = torchvision.datasets.USPS\n",
                "    classifier.conv1 = torch.nn.Conv2d(\n",
                "        1, 64, kernel_size=(7, 7), stride=(2, 2), padding=(3, 3), bias=False\n",
                "    )\n",
                "    classifier.load_state_dict(torch.load(\"../saved_models/classifiers/usps.pt\"))\n",
                "\n",
                "elif DATASET == \"mnist2mnistm\":\n",
                "    DATASET1_CHANNELS = 3\n",
                "    DATASET2_CHANNELS = 3\n",
                "    classifier.load_state_dict(torch.load(\"../saved_models/classifiers/mnistm.pt\"))\n",
                "    GRAY_PLOTS = False\n",
                "    source = torchvision.datasets.MNIST\n",
                "    target = MNISTM\n",
                "    source_transform = Compose(\n",
                "        [\n",
                "            Resize((IMG_SIZE, IMG_SIZE)),\n",
                "            ToTensor(),\n",
                "            Normalize((0.5), (0.5)),\n",
                "            Lambda(lambda x: -x.repeat(3, 1, 1)),\n",
                "        ]\n",
                "    )\n",
                "    target_transform = Compose(\n",
                "        [Resize(IMG_SIZE), ToTensor(), Normalize((0.5, 0.5, 0.5), (0.5, 0.5, 0.5))]\n",
                "    )\n",
                "\n",
                "classifier.cuda()\n",
                "classifier.eval()"
            ]
        },
        {
            "cell_type": "markdown",
            "metadata": {},
            "source": [
                "## 3. Initialize samplers\n"
            ]
        },
        {
            "cell_type": "code",
            "execution_count": null,
            "metadata": {},
            "outputs": [],
            "source": [
                "source_test = source(\n",
                "    root=DATASET_PATH, train=False, download=True, transform=source_transform\n",
                ")\n",
                "source_subset_samples, source_labels, source_class_indicies = get_indicies_subset(\n",
                "    source_test,\n",
                "    new_labels=new_labels_source,\n",
                "    classes=len(source_subset),\n",
                "    subset_classes=source_subset,\n",
                ")\n",
                "source_test = torch.utils.data.TensorDataset(\n",
                "    torch.stack(source_subset_samples), torch.LongTensor(source_labels)\n",
                ")\n",
                "\n",
                "\n",
                "target_test = target(\n",
                "    root=DATASET_PATH, train=False, download=True, transform=target_transform\n",
                ")\n",
                "target_subset_samples, target_labels, target_class_indicies = get_indicies_subset(\n",
                "    target_test,\n",
                "    new_labels=new_labels_target,\n",
                "    classes=len(target_subset),\n",
                "    subset_classes=target_subset,\n",
                ")\n",
                "target_test = torch.utils.data.TensorDataset(\n",
                "    torch.stack(target_subset_samples), torch.LongTensor(target_labels)\n",
                ")\n",
                "\n",
                "full_set_test = SubsetGuidedDataset(\n",
                "    source_test,\n",
                "    target_test,\n",
                "    num_labeled=\"all\",\n",
                "    in_indicies=source_class_indicies,\n",
                "    out_indicies=target_class_indicies,\n",
                ")\n",
                "\n",
                "XY_test_sampler = SubsetGuidedSampler(full_set_test, subsetsize=1)\n",
                "\n",
                "# for accuracy\n",
                "X_test_loader = torch.utils.data.DataLoader(\n",
                "    source_test,\n",
                "    batch_size=BATCH_SIZE,\n",
                "    shuffle=False,\n",
                "    num_workers=8,\n",
                "    pin_memory=True,\n",
                ")\n",
                "Y_test_loader = torch.utils.data.DataLoader(\n",
                "    target_test,\n",
                "    batch_size=BATCH_SIZE,\n",
                "    shuffle=False,\n",
                "    num_workers=8,\n",
                "    pin_memory=True,\n",
                ")"
            ]
        },
        {
            "cell_type": "markdown",
            "metadata": {},
            "source": [
                "## 4. Testing\n"
            ]
        },
        {
            "cell_type": "markdown",
            "metadata": {},
            "source": [
                "### init models\n"
            ]
        },
        {
            "cell_type": "code",
            "execution_count": null,
            "metadata": {},
            "outputs": [],
            "source": [
                "T = CUNet(\n",
                "    DATASET1_CHANNELS, DATASET2_CHANNELS, TIME_DIM, base_factor=UNET_BASE_FACTOR\n",
                ").cuda()\n",
                "\n",
                "T = SDE(\n",
                "    shift_model=T,\n",
                "    epsilon=EPSILON,\n",
                "    n_steps=N_STEPS,\n",
                "    time_dim=TIME_DIM,\n",
                "    n_last_steps_without_noise=N_LAST_STEPS_WITHOUT_NOISE,\n",
                "    use_positional_encoding=USE_POSITIONAL_ENCODING,\n",
                "    use_gradient_checkpoint=USE_GRADIENT_CHECKPOINT,\n",
                "    predict_shift=PREDICT_SHIFT,\n",
                "    image_input=IMAGE_INPUT,\n",
                ").cuda()\n",
                "\n",
                "print(\"T params:\", np.sum([np.prod(p.shape) for p in T.parameters()]))"
            ]
        },
        {
            "cell_type": "markdown",
            "metadata": {},
            "source": [
                "### Load weights for continue training"
            ]
        },
        {
            "cell_type": "code",
            "execution_count": null,
            "metadata": {},
            "outputs": [],
            "source": [
                "print(\"Loading weights\")\n",
                "\n",
                "w_path = os.path.join(LOAD_PATH, f\"T_{SEED}_5000.pt\")  # user setting\n",
                "\n",
                "T.load_state_dict(torch.load(w_path))\n",
                "\n",
                "print(f\"{w_path}, loaded\")"
            ]
        },
        {
            "cell_type": "markdown",
            "metadata": {},
            "source": [
                "### Plots Test\n"
            ]
        },
        {
            "cell_type": "code",
            "execution_count": null,
            "metadata": {},
            "outputs": [],
            "source": [
                "X_test_fixed, Y_test_fixed = XY_test_sampler.sample(10)\n",
                "X_test_fixed, Y_test_fixed = X_test_fixed.flatten(0, 1), Y_test_fixed.flatten(0, 1)"
            ]
        },
        {
            "cell_type": "code",
            "execution_count": null,
            "metadata": {},
            "outputs": [],
            "source": [
                "fig, axes = plot_sde_pushed_images(X_test_fixed, Y_test_fixed, T, gray=GRAY_PLOTS)"
            ]
        },
        {
            "cell_type": "code",
            "execution_count": null,
            "metadata": {},
            "outputs": [],
            "source": [
                "fig, axes = plot_sde_pushed_random_class_images(XY_test_sampler, T, gray=GRAY_PLOTS)"
            ]
        },
        {
            "cell_type": "markdown",
            "metadata": {},
            "source": [
                "### main testing\n"
            ]
        },
        {
            "cell_type": "code",
            "execution_count": null,
            "metadata": {},
            "outputs": [],
            "source": [
                "clear_output(wait=True)\n",
                "\n",
                "print(\"Plotting\")\n",
                "\n",
                "inference_T = T\n",
                "inference_T.eval()\n",
                "print(\"Fixed Test Images\")\n",
                "fig, axes = plot_sde_pushed_images(\n",
                "    X_test_fixed, Y_test_fixed, inference_T, gray=GRAY_PLOTS, plot_trajectory=False\n",
                ")\n",
                "plt.show(fig)\n",
                "plt.close(fig)\n",
                "\n",
                "print(\"Random Test Images\")\n",
                "fig, axes = plot_sde_pushed_random_class_images(\n",
                "    XY_test_sampler, inference_T, gray=GRAY_PLOTS, plot_trajectory=False\n",
                ")\n",
                "plt.show(fig)\n",
                "plt.close(fig)"
            ]
        },
        {
            "cell_type": "code",
            "execution_count": null,
            "metadata": {},
            "outputs": [],
            "source": [
                "print(\"Fixed Test Images Trajectory\")\n",
                "fig, axes = plot_sde_pushed_images(\n",
                "    X_test_fixed, Y_test_fixed, inference_T, gray=GRAY_PLOTS\n",
                ")\n",
                "plt.show(fig)\n",
                "plt.close(fig)\n",
                "\n",
                "print(\"Random Test Images Trajectory\")\n",
                "fig, axes = plot_sde_pushed_random_class_images(\n",
                "    XY_test_sampler, inference_T, gray=GRAY_PLOTS\n",
                ")\n",
                "plt.show(fig)\n",
                "plt.close(fig)"
            ]
        },
        {
            "cell_type": "code",
            "execution_count": null,
            "metadata": {},
            "outputs": [],
            "source": [
                "print(\"Computing FID\")\n",
                "target_mu, target_sigma = get_loader_stats(\n",
                "    Y_test_loader, BATCH_SIZE, FID_EPOCHS, verbose=True, use_Y=False\n",
                ")\n",
                "gen_mu, gen_sigma = get_sde_pushed_loader_stats(\n",
                "    inference_T,\n",
                "    X_test_loader,\n",
                "    n_epochs=FID_EPOCHS,\n",
                "    batch_size=BATCH_SIZE,\n",
                "    verbose=True,\n",
                ")\n",
                "fid = calculate_frechet_distance(gen_mu, gen_sigma, target_mu, target_sigma)\n",
                "print(f\"FID={fid}\")"
            ]
        },
        {
            "cell_type": "code",
            "execution_count": null,
            "metadata": {},
            "outputs": [],
            "source": [
                "print(\"Computing Accuracy\")\n",
                "accuracy = get_sde_pushed_loader_accuracy(inference_T, X_test_loader, classifier)"
            ]
        },
        {
            "cell_type": "code",
            "execution_count": null,
            "metadata": {},
            "outputs": [],
            "source": [
                "print(\"Computing Metrics\")\n",
                "metrics = get_sde_pushed_loader_metrics(\n",
                "    T,\n",
                "    XY_test_sampler.loader,\n",
                "    n_epochs=FID_EPOCHS,\n",
                "    verbose=True,\n",
                "    log_metrics=[\"LPIPS\", \"PSNR\", \"SSIM\", \"MSE\", \"MAE\"],\n",
                ")\n",
                "print(f\"metrics={metrics}\")"
            ]
        }
    ],
    "metadata": {
        "celltoolbar": "Tags",
        "kernelspec": {
            "display_name": "Python 3 (ipykernel)",
            "language": "python",
            "name": "python3"
        },
        "language_info": {
            "codemirror_mode": {
                "name": "ipython",
                "version": 3
            },
            "file_extension": ".py",
            "mimetype": "text/x-python",
            "name": "python",
            "nbconvert_exporter": "python",
            "pygments_lexer": "ipython3",
            "version": "3.9.19"
        }
    },
    "nbformat": 4,
    "nbformat_minor": 4
}
