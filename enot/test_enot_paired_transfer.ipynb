{
    "cells": [
        {
            "cell_type": "markdown",
            "metadata": {},
            "source": [
                "## 1. Imports\n"
            ]
        },
        {
            "cell_type": "code",
            "execution_count": null,
            "metadata": {},
            "outputs": [],
            "source": [
                "import os\n",
                "import sys\n",
                "import gc\n",
                "import json\n",
                "import warnings\n",
                "\n",
                "import torch\n",
                "import numpy as np\n",
                "import matplotlib.pyplot as plt\n",
                "\n",
                "from PIL import PngImagePlugin\n",
                "\n",
                "from IPython.display import clear_output\n",
                "\n",
                "sys.path.append(\"..\")\n",
                "from src.enot import SDE\n",
                "from src.resnet2 import ResNet_D\n",
                "from src.cunet import CUNet\n",
                "\n",
                "from src.tools import (\n",
                "    set_random_seed,\n",
                "    weights_init_D,\n",
                "    get_sde_pushed_loader_metrics,\n",
                "    get_sde_pushed_loader_stats,\n",
                ")\n",
                "from src.fid_score import calculate_frechet_distance\n",
                "from src.samplers import get_paired_sampler\n",
                "from src.plotters import (\n",
                "    plot_sde_pushed_images,\n",
                "    plot_sde_pushed_random_paired_images,\n",
                "    plot_fixed_sde_trajectories,\n",
                "    plot_several_fixed_sde_trajectories,\n",
                ")\n",
                "\n",
                "\n",
                "LARGE_ENOUGH_NUMBER = 100\n",
                "PngImagePlugin.MAX_TEXT_CHUNK = LARGE_ENOUGH_NUMBER * (1024**2)\n",
                "\n",
                "warnings.filterwarnings(\"ignore\")\n",
                "\n",
                "%matplotlib inline "
            ]
        },
        {
            "cell_type": "code",
            "execution_count": null,
            "metadata": {},
            "outputs": [],
            "source": [
                "gc.collect()\n",
                "torch.cuda.empty_cache()"
            ]
        },
        {
            "cell_type": "markdown",
            "metadata": {},
            "source": [
                "## 2. Init Config and FID stats\n",
                "\n",
                "the config file `config.json` is saved at saved_models/EXP_NAME/"
            ]
        },
        {
            "cell_type": "code",
            "execution_count": null,
            "metadata": {
                "tags": [
                    "parameters"
                ]
            },
            "outputs": [],
            "source": [
                "SEED = 0x3060\n",
                "set_random_seed(SEED)\n",
                "\n",
                "# dataset choosing\n",
                "# face2comic\n",
                "# DATASET, DATASET_PATH, MAP_NAME, REVERSE = 'comic_faces_v1', '../datasets/face2comics_v1.0.0_by_Sxela', \"comic2face\", False\n",
                "# colored mask -> face\n",
                "# DATASET, DATASET_PATH, MAP_NAME, REVERSE = \"celeba_mask\", \"../datasets/CelebAMask-HQ\", \"colored_mask2face\", False\n",
                "# sketch -> photo\n",
                "DATASET, DATASET_PATH, MAP_NAME, REVERSE = (\n",
                "    \"FS2K\",\n",
                "    \"../datasets/FS2K/\",\n",
                "    \"sketch2photo\",\n",
                "    False,\n",
                ")\n",
                "\n",
                "IMG_SIZE = 256\n",
                "DATASET1_CHANNELS = 3\n",
                "DATASET2_CHANNELS = 3\n",
                "\n",
                "# GPU choosing\n",
                "DEVICE_IDS = [0]\n",
                "assert torch.cuda.is_available()\n",
                "\n",
                "CONTINUE = 0\n",
                "\n",
                "# All hyperparameters below is set to the values used for the experiments, which discribed in the article\n",
                "\n",
                "# training algorithm settings\n",
                "BATCH_SIZE = 2\n",
                "T_ITERS = 10\n",
                "MAX_STEPS = 2500 + 1  # 2501 for testing\n",
                "INTEGRAL_SCALE = 1 / (3 * IMG_SIZE * IMG_SIZE)\n",
                "EPSILON_SCHEDULER_LAST_ITER = 20000\n",
                "\n",
                "# SDE network settings\n",
                "EPSILON = 0  # [0 , 1, 10]\n",
                "IMAGE_INPUT = True\n",
                "PREDICT_SHIFT = True\n",
                "N_STEPS = 10\n",
                "UNET_BASE_FACTOR = 128\n",
                "TIME_DIM = 128\n",
                "USE_POSITIONAL_ENCODING = True\n",
                "ONE_STEP_INIT_ITERS = 0\n",
                "USE_GRADIENT_CHECKPOINT = False\n",
                "N_LAST_STEPS_WITHOUT_NOISE = 1\n",
                "\n",
                "# plot settings\n",
                "GRAY_PLOTS = False\n",
                "STEPS_TO_SHOW = 10\n",
                "\n",
                "# log settings\n",
                "SMART_INTERVALS = False\n",
                "INTERVAL_SHRINK_START_TIME = 0.98\n",
                "TRACK_VAR_INTERVAL = 10\n",
                "PLOT_INTERVAL = 500\n",
                "CPKT_INTERVAL = 500\n",
                "\n",
                "FID_EPOCHS = 1\n",
                "\n",
                "EXP_NAME = f\"ENOT_Paired_{DATASET}_{SEED}\"\n",
                "OUTPUT_PATH = f\"../saved_models/{EXP_NAME}/\"\n",
                "\n",
                "if not os.path.exists(OUTPUT_PATH):\n",
                "    raise \"no such file or directory\""
            ]
        },
        {
            "cell_type": "markdown",
            "metadata": {},
            "source": [
                "### load FID stats"
            ]
        },
        {
            "cell_type": "code",
            "execution_count": null,
            "metadata": {},
            "outputs": [],
            "source": [
                "if not REVERSE:\n",
                "    filename = f\"../stats/{DATASET}_{MAP_NAME.split('2')[1]}_{IMG_SIZE}_test.json\"\n",
                "else:\n",
                "    filename = f\"../stats/{DATASET}_{MAP_NAME.split('2')[0]}_{IMG_SIZE}_test.json\"\n",
                "\n",
                "with open(filename, \"r\") as fp:\n",
                "    data_stats = json.load(fp)\n",
                "    target_mu, target_sigma = data_stats[\"mu\"], data_stats[\"sigma\"]\n",
                "del data_stats"
            ]
        },
        {
            "cell_type": "markdown",
            "metadata": {},
            "source": [
                "## 3. Initialize samplers\n"
            ]
        },
        {
            "cell_type": "code",
            "execution_count": null,
            "metadata": {},
            "outputs": [],
            "source": [
                "_, XY_test_sampler = get_paired_sampler(\n",
                "    DATASET, DATASET_PATH, img_size=IMG_SIZE, reverse=REVERSE, batch_size=BATCH_SIZE\n",
                ")\n",
                "\n",
                "torch.cuda.empty_cache()\n",
                "gc.collect()\n",
                "clear_output()"
            ]
        },
        {
            "cell_type": "markdown",
            "metadata": {},
            "source": [
                "## 4. Testing\n"
            ]
        },
        {
            "cell_type": "markdown",
            "metadata": {},
            "source": [
                "### init models\n"
            ]
        },
        {
            "cell_type": "code",
            "execution_count": null,
            "metadata": {},
            "outputs": [],
            "source": [
                "D = ResNet_D(IMG_SIZE, nc=DATASET2_CHANNELS).cuda()\n",
                "D.apply(weights_init_D)\n",
                "\n",
                "T = CUNet(\n",
                "    DATASET1_CHANNELS, DATASET2_CHANNELS, TIME_DIM, base_factor=UNET_BASE_FACTOR\n",
                ").cuda()\n",
                "\n",
                "T = SDE(\n",
                "    shift_model=T,\n",
                "    epsilon=EPSILON,\n",
                "    n_steps=N_STEPS,\n",
                "    time_dim=TIME_DIM,\n",
                "    n_last_steps_without_noise=N_LAST_STEPS_WITHOUT_NOISE,\n",
                "    use_positional_encoding=USE_POSITIONAL_ENCODING,\n",
                "    use_gradient_checkpoint=USE_GRADIENT_CHECKPOINT,\n",
                "    predict_shift=PREDICT_SHIFT,\n",
                "    image_input=IMAGE_INPUT,\n",
                ").cuda()\n",
                "\n",
                "print(\"T params:\", np.sum([np.prod(p.shape) for p in T.parameters()]))\n",
                "print(\"D params:\", np.sum([np.prod(p.shape) for p in D.parameters()]))"
            ]
        },
        {
            "cell_type": "markdown",
            "metadata": {},
            "source": [
                "### load weights"
            ]
        },
        {
            "cell_type": "code",
            "execution_count": null,
            "metadata": {},
            "outputs": [],
            "source": [
                "print(\"Loading weights\")\n",
                "\n",
                "CKPT_DIR = os.path.join(OUTPUT_PATH, f\"iter{MAX_STEPS - 1}/\")  # user setting\n",
                "\n",
                "T.load_state_dict(torch.load(os.path.join(CKPT_DIR, f\"T_{SEED}.pt\")))\n",
                "print(f\"{CKPT_DIR} T_{SEED}.pt, loaded\")\n",
                "\n",
                "D.load_state_dict(torch.load(os.path.join(CKPT_DIR, f\"D_{SEED}.pt\")))\n",
                "print(f\"{CKPT_DIR} D_{SEED}.pt, loaded\")"
            ]
        },
        {
            "cell_type": "markdown",
            "metadata": {},
            "source": [
                "### Plots Test\n"
            ]
        },
        {
            "cell_type": "code",
            "execution_count": null,
            "metadata": {},
            "outputs": [],
            "source": [
                "X_test_fixed, Y_test_fixed = XY_test_sampler.sample(10)"
            ]
        },
        {
            "cell_type": "code",
            "execution_count": null,
            "metadata": {},
            "outputs": [],
            "source": [
                "fig, axes = plot_sde_pushed_images(X_test_fixed, Y_test_fixed, T)"
            ]
        },
        {
            "cell_type": "code",
            "execution_count": null,
            "metadata": {},
            "outputs": [],
            "source": [
                "fig, axes = plot_sde_pushed_random_paired_images(XY_test_sampler, T)"
            ]
        },
        {
            "cell_type": "markdown",
            "metadata": {},
            "source": [
                "### main testing"
            ]
        },
        {
            "cell_type": "code",
            "execution_count": null,
            "metadata": {},
            "outputs": [],
            "source": [
                "clear_output(wait=True)\n",
                "print(\"Plotting\")\n",
                "\n",
                "inference_T = T\n",
                "inference_T.eval()\n",
                "\n",
                "print(\"Fixed Test Images\")\n",
                "fig, axes = plot_sde_pushed_images(\n",
                "    X_test_fixed, Y_test_fixed, inference_T, gray=GRAY_PLOTS\n",
                ")\n",
                "# wandb.log({\"Fixed Test Images\": [wandb.Image(fig2img(fig))]}, step=step)\n",
                "plt.show(fig)\n",
                "plt.close(fig)\n",
                "\n",
                "print(\"Random Test Images\")\n",
                "fig, axes = plot_sde_pushed_random_paired_images(\n",
                "    XY_test_sampler, inference_T, gray=GRAY_PLOTS\n",
                ")\n",
                "# wandb.log({\"Random Test Images\": [wandb.Image(fig2img(fig))]}, step=step)\n",
                "plt.show(fig)\n",
                "plt.close(fig)\n",
                "\n",
                "steps_to_draw = min(N_STEPS, 10)\n",
                "print(\"Fixed Test Trajectories\")\n",
                "fig, axes = plot_fixed_sde_trajectories(\n",
                "    X_test_fixed,\n",
                "    Y_test_fixed,\n",
                "    inference_T,\n",
                "    STEPS_TO_SHOW,\n",
                "    N_STEPS,\n",
                "    gray=GRAY_PLOTS,\n",
                ")\n",
                "plt.show(fig)\n",
                "plt.close(fig)"
            ]
        },
        {
            "cell_type": "code",
            "execution_count": null,
            "metadata": {},
            "outputs": [],
            "source": [
                "# print(\"TODO: Random Test Trajectories\")\n",
                "# fig, axes = plot_random_sde_trajectories(\n",
                "#     X_test_sampler,\n",
                "#     Y_test_sampler,\n",
                "#     inference_T,\n",
                "#     STEPS_TO_SHOW,\n",
                "#     N_STEPS,\n",
                "#     gray=GRAY_PLOTS,\n",
                "# )\n",
                "# plt.show(fig)\n",
                "# plt.close(fig)\n",
                "\n",
                "print(\"Several Fixed Trajectories\")\n",
                "fig, axes = plot_several_fixed_sde_trajectories(\n",
                "    X_test_fixed,\n",
                "    Y_test_fixed,\n",
                "    inference_T,\n",
                "    STEPS_TO_SHOW,\n",
                "    N_STEPS,\n",
                "    gray=GRAY_PLOTS,\n",
                ")\n",
                "plt.show(fig)\n",
                "plt.close(fig)\n",
                "\n",
                "# print(\"TODO: Several Random Trajectories\")\n",
                "# fig, axes = plot_several_random_sde_trajectories(\n",
                "#     X_test_sampler,\n",
                "#     Y_test_sampler,\n",
                "#     inference_T,\n",
                "#     STEPS_TO_SHOW,\n",
                "#     N_STEPS,\n",
                "#     gray=GRAY_PLOTS,\n",
                "# )\n",
                "# plt.show(fig)\n",
                "# plt.close(fig)"
            ]
        },
        {
            "cell_type": "code",
            "execution_count": null,
            "metadata": {},
            "outputs": [],
            "source": [
                "print(\"Computing FID\")\n",
                "gen_mu, gen_sigma = get_sde_pushed_loader_stats(\n",
                "    T,\n",
                "    XY_test_sampler.loader,\n",
                "    n_epochs=FID_EPOCHS,\n",
                "    batch_size=BATCH_SIZE,\n",
                "    verbose=True,\n",
                ")\n",
                "fid = calculate_frechet_distance(gen_mu, gen_sigma, target_mu, target_sigma)\n",
                "print(f\"FID={fid}\")\n",
                "del gen_mu, gen_sigma"
            ]
        },
        {
            "cell_type": "code",
            "execution_count": null,
            "metadata": {},
            "outputs": [],
            "source": [
                "print(\"Computing Metrics\")\n",
                "metrics = get_sde_pushed_loader_metrics(\n",
                "    T,\n",
                "    XY_test_sampler.loader,\n",
                "    n_epochs=FID_EPOCHS,\n",
                "    verbose=True,\n",
                "    log_metrics=[\"LPIPS\", \"PSNR\", \"SSIM\", \"MSE\", \"MAE\"],\n",
                ")\n",
                "print(f\"metrics={metrics}\")"
            ]
        }
    ],
    "metadata": {
        "celltoolbar": "Tags",
        "kernelspec": {
            "display_name": "Python 3 (ipykernel)",
            "language": "python",
            "name": "python3"
        },
        "language_info": {
            "codemirror_mode": {
                "name": "ipython",
                "version": 3
            },
            "file_extension": ".py",
            "mimetype": "text/x-python",
            "name": "python",
            "nbconvert_exporter": "python",
            "pygments_lexer": "ipython3",
            "version": "3.9.19"
        }
    },
    "nbformat": 4,
    "nbformat_minor": 4
}
