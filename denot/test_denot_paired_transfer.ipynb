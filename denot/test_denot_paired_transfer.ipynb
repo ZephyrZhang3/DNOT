{
    "cells": [
        {
            "cell_type": "markdown",
            "metadata": {},
            "source": [
                "## 1. Imports\n"
            ]
        },
        {
            "cell_type": "code",
            "execution_count": null,
            "metadata": {},
            "outputs": [],
            "source": [
                "import os\n",
                "import sys\n",
                "import gc\n",
                "import json\n",
                "import warnings\n",
                "\n",
                "import torch\n",
                "import numpy as np\n",
                "from diffusers import DDIMScheduler\n",
                "\n",
                "\n",
                "import matplotlib.pyplot as plt\n",
                "from PIL import PngImagePlugin\n",
                "from IPython.display import clear_output\n",
                "\n",
                "sys.path.append(\"..\")\n",
                "from src.enot import SDE\n",
                "from src.cunet import CUNet\n",
                "\n",
                "from fid_score import calculate_frechet_distance\n",
                "from src.tools import (\n",
                "    set_random_seed,\n",
                "    get_all_pivotal,\n",
                "    get_step_t_pivotal,\n",
                "    get_loader_stats,\n",
                "    get_linked_sde_pushed_loader_stats,\n",
                "    get_linked_sde_pushed_loader_metrics,\n",
                ")\n",
                "from src.plotters import (\n",
                "    plot_linked_sde_pushed_images,\n",
                "    plot_linked_sde_pushed_random_paired_images,\n",
                ")\n",
                "from src.samplers import PairedLoaderSampler, get_paired_sampler\n",
                "\n",
                "LARGE_ENOUGH_NUMBER = 100\n",
                "PngImagePlugin.MAX_TEXT_CHUNK = LARGE_ENOUGH_NUMBER * (1024**2)\n",
                "\n",
                "warnings.filterwarnings(\"ignore\")\n",
                "\n",
                "%matplotlib inline "
            ]
        },
        {
            "cell_type": "code",
            "execution_count": null,
            "metadata": {},
            "outputs": [],
            "source": [
                "gc.collect()\n",
                "torch.cuda.empty_cache()"
            ]
        },
        {
            "cell_type": "markdown",
            "metadata": {},
            "source": [
                "## 2. Init Config and FID stats\n",
                "\n",
                "the config file `config.json` is saved at saved_models/EXP_NAME/\n"
            ]
        },
        {
            "cell_type": "markdown",
            "metadata": {},
            "source": [
                "### init config"
            ]
        },
        {
            "cell_type": "code",
            "execution_count": null,
            "metadata": {
                "tags": [
                    "parameters"
                ]
            },
            "outputs": [],
            "source": [
                "SEED = 0x3060\n",
                "set_random_seed(SEED)\n",
                "\n",
                "# dataset choosing\n",
                "# face2comic\n",
                "DATASET, DATASET_PATH, REVERSE = (\n",
                "    \"comic_faces_v1\",\n",
                "    \"../datasets/face2comics_v1.0.0_by_Sxela\",\n",
                "    False,\n",
                ")\n",
                "\n",
                "# colored mask -> face\n",
                "# DATASET, DATASET_PATH, REVERSE = (\n",
                "#     \"celeba_mask\",\n",
                "#     \"../datasets/CelebAMask-HQ\",\n",
                "#     False,\n",
                "# )\n",
                "\n",
                "# sketch -> face\n",
                "# DATASET, DATASET_PATH, REVERSE = (\n",
                "#     \"FS2K\",\n",
                "#     \"../datasets/FS2K/\",\n",
                "#     False,\n",
                "# )\n",
                "\n",
                "IMG_SIZE = 256\n",
                "DATASET1_CHANNELS = 3\n",
                "DATASET2_CHANNELS = 3\n",
                "\n",
                "# the step number adding noise in diffusion process\n",
                "DIFFUSION_STEPS = 1000\n",
                "PIVOTAL_LIST = [40, 60, 90]\n",
                "\n",
                "# GPU choosing\n",
                "DEVICE_ID = 0\n",
                "assert torch.cuda.is_available()\n",
                "torch.cuda.set_device(f\"cuda:{DEVICE_ID}\")\n",
                "\n",
                "# All hyperparameters below is set to the values used for the experiments, which discribed in the article\n",
                "\n",
                "# training algorithm settings\n",
                "STRATEGY = \"Fix\"  # 'Fix' or 'Adapt'\n",
                "# data sample settings\n",
                "BATCH_SIZE = 2\n",
                "\n",
                "# SDE network settings\n",
                "EPSILON = 0  # [0 , 1, 10]\n",
                "IMAGE_INPUT = True\n",
                "PREDICT_SHIFT = True\n",
                "N_STEPS = 5  # num of shifts time\n",
                "UNET_BASE_FACTOR = 128\n",
                "TIME_DIM = 128\n",
                "USE_POSITIONAL_ENCODING = True\n",
                "ONE_STEP_INIT_ITERS = 0\n",
                "USE_GRADIENT_CHECKPOINT = False\n",
                "N_LAST_STEPS_WITHOUT_NOISE = 1\n",
                "\n",
                "# plot settings\n",
                "GRAY_PLOTS = False\n",
                "PLOT_N_SAMPLES = 8\n",
                "\n",
                "FID_EPOCHS = 1\n",
                "\n",
                "EXP_NAME = f\"DENOT_Paired_{DATASET}_{STRATEGY}_{SEED}\"\n",
                "LOAD_PATH = f\"../saved_models/{EXP_NAME}/\"\n",
                "\n",
                "if not os.path.exists(LOAD_PATH):\n",
                "    raise \"no such file or directory\""
            ]
        },
        {
            "cell_type": "markdown",
            "metadata": {},
            "source": [
                "## 3. Initialize samplers\n"
            ]
        },
        {
            "cell_type": "code",
            "execution_count": null,
            "metadata": {},
            "outputs": [],
            "source": [
                "_, XY_test_sampler = get_paired_sampler(\n",
                "    DATASET,\n",
                "    DATASET_PATH,\n",
                "    img_size=IMG_SIZE,\n",
                "    batch_size=BATCH_SIZE,\n",
                "    reverse=REVERSE,\n",
                ")"
            ]
        },
        {
            "cell_type": "code",
            "execution_count": null,
            "metadata": {},
            "outputs": [],
            "source": [
                "torch.cuda.empty_cache()\n",
                "gc.collect()\n",
                "clear_output()"
            ]
        },
        {
            "cell_type": "markdown",
            "metadata": {},
            "source": [
                "### pivotal sampler\n"
            ]
        },
        {
            "cell_type": "code",
            "execution_count": null,
            "metadata": {},
            "outputs": [],
            "source": [
                "SCHEDULER = DDIMScheduler(num_train_timesteps=DIFFUSION_STEPS)\n",
                "\n",
                "\n",
                "def sample_all_pivotal(\n",
                "    XY_sampler: PairedLoaderSampler,\n",
                "    batch_size: int = 4,\n",
                ") -> list[torch.Tensor]:\n",
                "    source, target = XY_sampler.sample(batch_size)\n",
                "\n",
                "    return get_all_pivotal(\n",
                "        source,\n",
                "        target,\n",
                "        SCHEDULER,\n",
                "        PIVOTAL_LIST,\n",
                "    )"
            ]
        },
        {
            "cell_type": "markdown",
            "metadata": {},
            "source": [
                "### mapping plotters\n"
            ]
        },
        {
            "cell_type": "code",
            "execution_count": null,
            "metadata": {},
            "outputs": [],
            "source": [
                "def plot_all_pivotal(\n",
                "    source: torch.Tensor,\n",
                "    target: torch.Tensor,\n",
                "    gray: bool = False,\n",
                ") -> list:\n",
                "    pivotal_path = get_all_pivotal(\n",
                "        source,\n",
                "        target,\n",
                "        SCHEDULER,\n",
                "        PIVOTAL_LIST,\n",
                "    )\n",
                "\n",
                "    imgs: np.ndarray = (\n",
                "        torch.stack(pivotal_path)\n",
                "        .to(\"cpu\")\n",
                "        .permute(0, 2, 3, 1)\n",
                "        .mul(0.5)\n",
                "        .add(0.5)\n",
                "        .numpy()\n",
                "        .clip(0, 1)\n",
                "    )\n",
                "    nrows, ncols = 1, len(pivotal_path)\n",
                "    fig = plt.figure(figsize=(1.5 * ncols, 1.5 * nrows), dpi=150)\n",
                "    for i, img in enumerate(imgs):\n",
                "        ax = fig.add_subplot(nrows, ncols, i + 1)\n",
                "        if gray:\n",
                "            ax.imshow(img, cmap=\"gray\")\n",
                "        else:\n",
                "            ax.imshow(img)\n",
                "        ax.get_yaxis().set_visible(False)\n",
                "        ax.get_xaxis().set_visible(False)\n",
                "        ax.set_yticks([])\n",
                "        ax.set_xticks([])\n",
                "        ax.set_title(f\"$X_{i}$\", fontsize=24)\n",
                "        if i == imgs.shape[0] - 1:\n",
                "            ax.set_title(\"Y\", fontsize=24)\n",
                "\n",
                "    torch.cuda.empty_cache()\n",
                "    gc.collect()"
            ]
        },
        {
            "cell_type": "markdown",
            "metadata": {},
            "source": [
                "## 4. Initialize models\n"
            ]
        },
        {
            "cell_type": "markdown",
            "metadata": {},
            "source": [
                "### init models\n"
            ]
        },
        {
            "cell_type": "code",
            "execution_count": null,
            "metadata": {},
            "outputs": [],
            "source": [
                "Ts = []\n",
                "\n",
                "for i in range(len(PIVOTAL_LIST) * 2):\n",
                "    T = CUNet(\n",
                "        DATASET1_CHANNELS, DATASET2_CHANNELS, TIME_DIM, base_factor=UNET_BASE_FACTOR\n",
                "    ).cuda()\n",
                "\n",
                "    T = SDE(\n",
                "        shift_model=T,\n",
                "        epsilon=EPSILON,\n",
                "        n_steps=N_STEPS,\n",
                "        time_dim=TIME_DIM,\n",
                "        n_last_steps_without_noise=N_LAST_STEPS_WITHOUT_NOISE,\n",
                "        use_positional_encoding=USE_POSITIONAL_ENCODING,\n",
                "        use_gradient_checkpoint=USE_GRADIENT_CHECKPOINT,\n",
                "        predict_shift=PREDICT_SHIFT,\n",
                "        image_input=IMAGE_INPUT,\n",
                "    ).cuda()\n",
                "    Ts.append(T)"
            ]
        },
        {
            "cell_type": "markdown",
            "metadata": {},
            "source": [
                "### load weights\n"
            ]
        },
        {
            "cell_type": "code",
            "execution_count": null,
            "metadata": {},
            "outputs": [],
            "source": [
                "print(\"Loading weights\")\n",
                "\n",
                "CKPT_DIR = os.path.join(LOAD_PATH, f\"iter{5000}/\")  # user setting\n",
                "for i, (T, D) in enumerate(Ts):\n",
                "    w_path = os.path.join(CKPT_DIR, f\"T{i}_{SEED}.pt\")\n",
                "    T.load_state_dict(torch.load(w_path))\n",
                "    print(f\"{w_path}, loaded\")"
            ]
        },
        {
            "cell_type": "markdown",
            "metadata": {},
            "source": [
                "## 5. Plots Test\n"
            ]
        },
        {
            "cell_type": "code",
            "execution_count": null,
            "metadata": {},
            "outputs": [],
            "source": [
                "X_test_fixed, Y_test_fixed = XY_test_sampler.sample(PLOT_N_SAMPLES)"
            ]
        },
        {
            "cell_type": "code",
            "execution_count": null,
            "metadata": {},
            "outputs": [],
            "source": [
                "plot_all_pivotal(X_test_fixed[0], Y_test_fixed[0])"
            ]
        },
        {
            "cell_type": "code",
            "execution_count": null,
            "metadata": {},
            "outputs": [],
            "source": [
                "fig, axes = plot_linked_sde_pushed_images(\n",
                "    X_test_fixed,\n",
                "    Y_test_fixed,\n",
                "    Ts,\n",
                ")"
            ]
        },
        {
            "cell_type": "code",
            "execution_count": null,
            "metadata": {},
            "outputs": [],
            "source": [
                "fig, axes = plot_linked_sde_pushed_random_paired_images(\n",
                "    XY_test_sampler,\n",
                "    Ts,\n",
                "    plot_n_samples=PLOT_N_SAMPLES,\n",
                "    gray=GRAY_PLOTS,\n",
                ")"
            ]
        },
        {
            "cell_type": "markdown",
            "metadata": {},
            "source": [
                "## 6. Testing\n"
            ]
        },
        {
            "cell_type": "code",
            "execution_count": null,
            "metadata": {},
            "outputs": [],
            "source": [
                "gc.collect()\n",
                "torch.cuda.empty_cache()"
            ]
        },
        {
            "cell_type": "code",
            "execution_count": null,
            "metadata": {},
            "outputs": [],
            "source": [
                "clear_output(wait=True)\n",
                "print(\"Plotting\")\n",
                "\n",
                "print(\"Fixed Test Images\")\n",
                "fig, axes = plot_linked_sde_pushed_images(\n",
                "    X_test_fixed,\n",
                "    Y_test_fixed,\n",
                "    Ts,\n",
                "    gray=GRAY_PLOTS,\n",
                ")\n",
                "plt.show(fig)\n",
                "plt.close(fig)\n",
                "\n",
                "print(\"Random Test Images\")\n",
                "fig, axes = plot_linked_sde_pushed_random_paired_images(\n",
                "    XY_test_sampler,\n",
                "    Ts,\n",
                "    plot_n_samples=PLOT_N_SAMPLES,\n",
                "    gray=GRAY_PLOTS,\n",
                ")\n",
                "plt.show(fig)\n",
                "plt.close(fig)"
            ]
        },
        {
            "cell_type": "code",
            "execution_count": null,
            "metadata": {},
            "outputs": [],
            "source": [
                "print(\"Computing FID\")\n",
                "use_Y = not REVERSE\n",
                "target_mu, target_sigma = get_loader_stats(\n",
                "    XY_test_sampler.loader,\n",
                "    BATCH_SIZE,\n",
                "    FID_EPOCHS,\n",
                "    verbose=True,\n",
                "    use_Y=use_Y,\n",
                ")\n",
                "gen_mu, gen_sigma = get_linked_sde_pushed_loader_stats(\n",
                "    Ts,\n",
                "    XY_test_sampler.loader,\n",
                "    n_epochs=FID_EPOCHS,\n",
                "    batch_size=BATCH_SIZE,\n",
                "    verbose=True,\n",
                ")\n",
                "fid = calculate_frechet_distance(gen_mu, gen_sigma, target_mu, target_sigma)\n",
                "print(f\"FID={fid}\")"
            ]
        },
        {
            "cell_type": "code",
            "execution_count": null,
            "metadata": {},
            "outputs": [],
            "source": [
                "print(\"Computing Mtrics\")\n",
                "metrics = get_linked_sde_pushed_loader_metrics(\n",
                "    Ts,\n",
                "    XY_test_sampler.loader,\n",
                "    n_epochs=FID_EPOCHS,\n",
                "    verbose=True,\n",
                "    log_metrics=[\"LPIPS\", \"PSNR\", \"SSIM\", \"MSE\", \"MAE\"],\n",
                ")\n",
                "print(f\"metrics={metrics}\")"
            ]
        }
    ],
    "metadata": {
        "celltoolbar": "Tags",
        "kernelspec": {
            "display_name": "Python 3 (ipykernel)",
            "language": "python",
            "name": "python3"
        },
        "language_info": {
            "codemirror_mode": {
                "name": "ipython",
                "version": 3
            },
            "file_extension": ".py",
            "mimetype": "text/x-python",
            "name": "python",
            "nbconvert_exporter": "python",
            "pygments_lexer": "ipython3",
            "version": "3.9.19"
        }
    },
    "nbformat": 4,
    "nbformat_minor": 4
}
