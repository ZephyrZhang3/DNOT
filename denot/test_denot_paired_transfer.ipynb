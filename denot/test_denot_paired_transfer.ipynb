{
    "cells": [
        {
            "cell_type": "markdown",
            "metadata": {},
            "source": [
                "## 1. Imports\n"
            ]
        },
        {
            "cell_type": "code",
            "execution_count": null,
            "metadata": {},
            "outputs": [],
            "source": [
                "import os\n",
                "import sys\n",
                "import gc\n",
                "import json\n",
                "import warnings\n",
                "from typing import List\n",
                "\n",
                "import torch\n",
                "import numpy as np\n",
                "from diffusers import DDIMScheduler\n",
                "\n",
                "import matplotlib.pyplot as plt\n",
                "from PIL import PngImagePlugin\n",
                "from IPython.display import clear_output\n",
                "\n",
                "sys.path.append(\"..\")\n",
                "from src.enot import SDE\n",
                "from src.resnet2 import ResNet_D\n",
                "from src.cunet import CUNet\n",
                "\n",
                "from src.tools import (\n",
                "    set_random_seed,\n",
                "    weights_init_D,\n",
                "    get_linked_sde_pushed_loader_metrics,\n",
                "    get_linked_sde_pushed_loader_stats,\n",
                ")  # for wandb\n",
                "from src.fid_score import calculate_frechet_distance\n",
                "from src.plotters import (\n",
                "    plot_linked_sde_pushed_images,\n",
                "    plot_linked_sde_pushed_random_paired_images,\n",
                ")\n",
                "\n",
                "from src.samplers import PairedLoaderSampler, get_paired_sampler\n",
                "\n",
                "LARGE_ENOUGH_NUMBER = 100\n",
                "PngImagePlugin.MAX_TEXT_CHUNK = LARGE_ENOUGH_NUMBER * (1024**2)\n",
                "\n",
                "warnings.filterwarnings(\"ignore\")\n",
                "\n",
                "%matplotlib inline "
            ]
        },
        {
            "cell_type": "code",
            "execution_count": null,
            "metadata": {},
            "outputs": [],
            "source": [
                "gc.collect()\n",
                "torch.cuda.empty_cache()"
            ]
        },
        {
            "cell_type": "markdown",
            "metadata": {},
            "source": [
                "## 2. Init Config and FID stats\n",
                "\n",
                "the config file `config.json` is saved at saved_models/EXP_NAME/\n"
            ]
        },
        {
            "cell_type": "markdown",
            "metadata": {},
            "source": [
                "### init config"
            ]
        },
        {
            "cell_type": "code",
            "execution_count": null,
            "metadata": {
                "tags": [
                    "parameters"
                ]
            },
            "outputs": [],
            "source": [
                "SEED = 0x3060\n",
                "set_random_seed(SEED)\n",
                "\n",
                "# dataset choosing\n",
                "# face2comic\n",
                "# DATASET, DATASET_PATH, REVERSE = 'comic_faces_v1', '../datasets/face2comics_v1.0.0_by_Sxela', \"face2comic\", False\n",
                "# colored mask -> face\n",
                "# DATASET, DATASET_PATH, REVERSE = \"celeba_mask\", \"../datasets/CelebAMask-HQ\", \"colored_mask2face\", False\n",
                "# sketch -> photo\n",
                "DATASET, DATASET_PATH, MAP_NAME, REVERSE = (\n",
                "    \"FS2K\",\n",
                "    \"../datasets/FS2K/\",\n",
                "    \"sketch2photo\",\n",
                "    False,\n",
                ")\n",
                "\n",
                "IMG_SIZE = 256\n",
                "DATASET1_CHANNELS = 3\n",
                "DATASET2_CHANNELS = 3\n",
                "\n",
                "# the step number adding noise in diffusion process\n",
                "DIFFUSION_STEPS = 1000\n",
                "PIVOTAL_LIST = [50, 100, 200]\n",
                "\n",
                "# GPU choosing\n",
                "DEVICE_IDS = [0]\n",
                "assert torch.cuda.is_available()\n",
                "torch.cuda.set_device(f\"cuda:{DEVICE_IDS[0]}\")\n",
                "\n",
                "# All hyperparameters below is set to the values used for the experiments, which discribed in the article\n",
                "\n",
                "# training algorithm settings\n",
                "STRATEGY = \"Fix\"  # 'Fix' or 'Adapt'\n",
                "\n",
                "BATCH_SIZE = 2\n",
                "MAX_STEPS = 5000 + 1  # 2501 for testing\n",
                "\n",
                "# SDE network settings\n",
                "EPSILON = 0  # [0 , 1, 10]\n",
                "IMAGE_INPUT = True\n",
                "PREDICT_SHIFT = True\n",
                "N_STEPS = 5  # num of shifts time\n",
                "UNET_BASE_FACTOR = 128\n",
                "TIME_DIM = 128\n",
                "USE_POSITIONAL_ENCODING = True\n",
                "ONE_STEP_INIT_ITERS = 0\n",
                "USE_GRADIENT_CHECKPOINT = False\n",
                "N_LAST_STEPS_WITHOUT_NOISE = 1\n",
                "\n",
                "# plot settings\n",
                "GRAY_PLOTS = False\n",
                "\n",
                "\n",
                "FID_EPOCHS = 1\n",
                "\n",
                "EXP_NAME = f\"Ours_Paired_{DATASET}_{STRATEGY}_{SEED}\"\n",
                "OUTPUT_PATH = f\"../saved_models/{EXP_NAME}/\"\n",
                "\n",
                "if not os.path.exists(OUTPUT_PATH):\n",
                "    raise \"no such file or directory\""
            ]
        },
        {
            "cell_type": "markdown",
            "metadata": {},
            "source": [
                "### load FID stats"
            ]
        },
        {
            "cell_type": "code",
            "execution_count": null,
            "metadata": {},
            "outputs": [],
            "source": [
                "use_Y = not REVERSE\n",
                "if use_Y:\n",
                "    filename = f\"../stats/{DATASET}_{MAP_NAME.split('2')[1]}_{IMG_SIZE}_test.json\"\n",
                "else:\n",
                "    filename = f\"../stats/{DATASET}_{MAP_NAME.split('2')[0]}_{IMG_SIZE}_test.json\"\n",
                "\n",
                "with open(filename, \"r\") as fp:\n",
                "    data_stats = json.load(fp)\n",
                "    mu_data, sigma_data = data_stats[\"mu\"], data_stats[\"sigma\"]\n",
                "del data_stats"
            ]
        },
        {
            "cell_type": "markdown",
            "metadata": {},
            "source": [
                "## 3. Initialize samplers\n"
            ]
        },
        {
            "cell_type": "code",
            "execution_count": null,
            "metadata": {},
            "outputs": [],
            "source": [
                "_, XY_test_sampler = get_paired_sampler(\n",
                "    DATASET, DATASET_PATH, img_size=IMG_SIZE, batch_size=BATCH_SIZE, reverse=REVERSE\n",
                ")\n",
                "\n",
                "torch.cuda.empty_cache()\n",
                "gc.collect()\n",
                "clear_output()"
            ]
        },
        {
            "cell_type": "markdown",
            "metadata": {},
            "source": [
                "### pivotal sampler\n"
            ]
        },
        {
            "cell_type": "code",
            "execution_count": null,
            "metadata": {},
            "outputs": [],
            "source": [
                "SCHEDULER = DDIMScheduler(num_train_timesteps=DIFFUSION_STEPS)\n",
                "\n",
                "\n",
                "def sample_all_pivotal(\n",
                "    XY_sampler: PairedLoaderSampler,\n",
                "    batch_size: int = 4,\n",
                ") -> List[torch.Tensor]:\n",
                "    pivotal_path = []\n",
                "\n",
                "    source, target = XY_sampler.sample(batch_size)\n",
                "\n",
                "    source_list = [source]\n",
                "    target_list = [target]\n",
                "    for i in range(min(DIFFUSION_STEPS, PIVOTAL_LIST[-1])):\n",
                "        source = SCHEDULER.add_noise(\n",
                "            source, torch.randn_like(source), torch.Tensor([i]).long()\n",
                "        )\n",
                "        target = SCHEDULER.add_noise(\n",
                "            target, torch.randn_like(target), torch.Tensor([i]).long()\n",
                "        )\n",
                "        if (i + 1) in PIVOTAL_LIST:\n",
                "            source_list.append(source)\n",
                "            target_list.append(target)\n",
                "\n",
                "    target_list.reverse()\n",
                "\n",
                "    pivotal_path.extend(source_list)\n",
                "    pivotal_path.extend(target_list[1:])  # just using source's last pivotal point\n",
                "    # pivotal_path.extend(target_list[:]) # 2 last pivotal points mapping\n",
                "\n",
                "    return pivotal_path\n",
                "\n",
                "\n",
                "# def sample_step_t_pivotal(\n",
                "#     XY_sampler: PairedLoaderSampler,\n",
                "#     batch_size: int = 4,\n",
                "#     pivotal_step: int = 0,\n",
                "# ):\n",
                "#     pivotal_path = sample_all_pivotal(XY_sampler, batch_size)\n",
                "#     pivotal_t, pivotal_t_next = (\n",
                "#         pivotal_path[pivotal_step],\n",
                "#         pivotal_path[pivotal_step + 1],\n",
                "#     )\n",
                "#     return pivotal_t, pivotal_t_next"
            ]
        },
        {
            "cell_type": "markdown",
            "metadata": {},
            "source": [
                "### mapping plotters\n"
            ]
        },
        {
            "cell_type": "code",
            "execution_count": null,
            "metadata": {},
            "outputs": [],
            "source": [
                "def plot_all_pivotal(\n",
                "    source: torch.Tensor,\n",
                "    target: torch.Tensor,\n",
                "    gray: bool = False,\n",
                ") -> list:\n",
                "    pivotal_path = []\n",
                "\n",
                "    source_list = [source]\n",
                "    target_list = [target]\n",
                "    for i in range(min(DIFFUSION_STEPS, PIVOTAL_LIST[-1])):\n",
                "        source = SCHEDULER.add_noise(\n",
                "            source, torch.randn_like(source), torch.Tensor([i]).long()\n",
                "        )\n",
                "        target = SCHEDULER.add_noise(\n",
                "            target, torch.randn_like(target), torch.Tensor([i]).long()\n",
                "        )\n",
                "        if (i + 1) in PIVOTAL_LIST:\n",
                "            source_list.append(source)\n",
                "            target_list.append(target)\n",
                "\n",
                "    target_list.reverse()\n",
                "\n",
                "    pivotal_path.extend(source_list)\n",
                "    pivotal_path.extend(target_list[1:])  # just using source's last pivotal point\n",
                "    # pivotal_path.extend(target_list[:]) # 2 last pivotal points mapping\n",
                "\n",
                "    imgs: np.ndarray = (\n",
                "        torch.stack(pivotal_path)\n",
                "        .to(\"cpu\")\n",
                "        .permute(0, 2, 3, 1)\n",
                "        .mul(0.5)\n",
                "        .add(0.5)\n",
                "        .numpy()\n",
                "        .clip(0, 1)\n",
                "    )\n",
                "    nrows, ncols = 1, len(pivotal_path)\n",
                "    fig = plt.figure(figsize=(1.5 * ncols, 1.5 * nrows), dpi=150)\n",
                "    for i, img in enumerate(imgs):\n",
                "        ax = fig.add_subplot(nrows, ncols, i + 1)\n",
                "        if gray:\n",
                "            ax.imshow(img, cmap=\"gray\")\n",
                "        else:\n",
                "            ax.imshow(img)\n",
                "        ax.get_yaxis().set_visible(False)\n",
                "        ax.get_xaxis().set_visible(False)\n",
                "        ax.set_yticks([])\n",
                "        ax.set_xticks([])\n",
                "        ax.set_title(f\"$X_{i}$\", fontsize=24)\n",
                "        if i == imgs.shape[0] - 1:\n",
                "            ax.set_title(\"Y\", fontsize=24)\n",
                "\n",
                "    torch.cuda.empty_cache()\n",
                "    gc.collect()"
            ]
        },
        {
            "cell_type": "markdown",
            "metadata": {},
            "source": [
                "## 4. Testing\n"
            ]
        },
        {
            "cell_type": "markdown",
            "metadata": {},
            "source": [
                "### init models\n"
            ]
        },
        {
            "cell_type": "code",
            "execution_count": null,
            "metadata": {},
            "outputs": [],
            "source": [
                "SDEs, BETA_NETs = [], []\n",
                "\n",
                "for i in range(len(PIVOTAL_LIST) * 2):\n",
                "    T = CUNet(\n",
                "        DATASET1_CHANNELS, DATASET2_CHANNELS, TIME_DIM, base_factor=UNET_BASE_FACTOR\n",
                "    ).cuda()\n",
                "\n",
                "    T = SDE(\n",
                "        shift_model=T,\n",
                "        epsilon=EPSILON,\n",
                "        n_steps=N_STEPS,\n",
                "        time_dim=TIME_DIM,\n",
                "        n_last_steps_without_noise=N_LAST_STEPS_WITHOUT_NOISE,\n",
                "        use_positional_encoding=USE_POSITIONAL_ENCODING,\n",
                "        use_gradient_checkpoint=USE_GRADIENT_CHECKPOINT,\n",
                "        predict_shift=PREDICT_SHIFT,\n",
                "        image_input=IMAGE_INPUT,\n",
                "    ).cuda()\n",
                "    SDEs.append(T)\n",
                "\n",
                "    D = ResNet_D(IMG_SIZE, nc=DATASET2_CHANNELS).cuda()\n",
                "    D.apply(weights_init_D)\n",
                "    BETA_NETs.append(D)"
            ]
        },
        {
            "cell_type": "markdown",
            "metadata": {},
            "source": [
                "### load weights\n"
            ]
        },
        {
            "cell_type": "code",
            "execution_count": null,
            "metadata": {},
            "outputs": [],
            "source": [
                "print(\"Loading weights\")\n",
                "\n",
                "CKPT_DIR = os.path.join(OUTPUT_PATH, f\"iter{MAX_STEPS - 1}/\")  # user setting\n",
                "for i, (T, D) in enumerate(\n",
                "    zip(\n",
                "        SDEs,\n",
                "        BETA_NETs,\n",
                "    )\n",
                "):\n",
                "    T.load_state_dict(torch.load(os.path.join(CKPT_DIR, f\"T{i}_{SEED}.pt\")))\n",
                "    print(f\"{CKPT_DIR}/T{i}_{SEED}.pt, loaded\")\n",
                "\n",
                "    D.load_state_dict(torch.load(os.path.join(CKPT_DIR, f\"D{i}_{SEED}.pt\")))\n",
                "    print(f\"{CKPT_DIR}/D{i}_{SEED}.pt, loaded\")"
            ]
        },
        {
            "cell_type": "markdown",
            "metadata": {},
            "source": [
                "### Plots Test\n"
            ]
        },
        {
            "cell_type": "code",
            "execution_count": null,
            "metadata": {},
            "outputs": [],
            "source": [
                "X_test_fixed, Y_test_fixed = XY_test_sampler.sample(BATCH_SIZE)"
            ]
        },
        {
            "cell_type": "code",
            "execution_count": null,
            "metadata": {},
            "outputs": [],
            "source": [
                "plot_all_pivotal(X_test_fixed[0], Y_test_fixed[0])"
            ]
        },
        {
            "cell_type": "code",
            "execution_count": null,
            "metadata": {},
            "outputs": [],
            "source": [
                "fig, axes = plot_linked_sde_pushed_images(X_test_fixed, Y_test_fixed, SDEs)"
            ]
        },
        {
            "cell_type": "code",
            "execution_count": null,
            "metadata": {},
            "outputs": [],
            "source": [
                "fig, axes = plot_linked_sde_pushed_random_paired_images(\n",
                "    XY_test_sampler, SDEs, gray=GRAY_PLOTS\n",
                ")"
            ]
        },
        {
            "cell_type": "markdown",
            "metadata": {},
            "source": [
                "### main testing\n"
            ]
        },
        {
            "cell_type": "code",
            "execution_count": null,
            "metadata": {},
            "outputs": [],
            "source": [
                "gc.collect()\n",
                "torch.cuda.empty_cache()"
            ]
        },
        {
            "cell_type": "code",
            "execution_count": null,
            "metadata": {},
            "outputs": [],
            "source": [
                "clear_output(wait=True)\n",
                "print(\"Plotting\")\n",
                "\n",
                "inference_SDEs = SDEs\n",
                "for T in inference_SDEs:\n",
                "    T.eval()\n",
                "print(\"Fixed Test Images\")\n",
                "fig, axes = plot_linked_sde_pushed_images(\n",
                "    X_test_fixed, Y_test_fixed, inference_SDEs, gray=GRAY_PLOTS\n",
                ")\n",
                "# wandb.log({\"Fixed Test Images\": [wandb.Image(fig2img(fig))]}, step=step)\n",
                "plt.show(fig)\n",
                "plt.close(fig)\n",
                "print(\"Random Test Images\")\n",
                "fig, axes = plot_linked_sde_pushed_random_paired_images(\n",
                "    XY_test_sampler,\n",
                "    inference_SDEs,\n",
                "    plot_n_samples=BATCH_SIZE,\n",
                "    gray=GRAY_PLOTS,\n",
                ")\n",
                "# wandb.log({\"Random Test Images\": [wandb.Image(fig2img(fig))]}, step=step)\n",
                "plt.show(fig)\n",
                "plt.close(fig)"
            ]
        },
        {
            "cell_type": "code",
            "execution_count": null,
            "metadata": {},
            "outputs": [],
            "source": [
                "print(\"Computing FID\")\n",
                "gen_mu, gen_sigma = get_linked_sde_pushed_loader_stats(\n",
                "    SDEs,\n",
                "    XY_test_sampler.loader,\n",
                "    n_epochs=FID_EPOCHS,\n",
                "    batch_size=BATCH_SIZE,\n",
                "    verbose=True,\n",
                ")\n",
                "fid = calculate_frechet_distance(gen_mu, gen_sigma, target_mu, target_sigma)\n",
                "print(f\"FID={fid}\")"
            ]
        },
        {
            "cell_type": "code",
            "execution_count": null,
            "metadata": {},
            "outputs": [],
            "source": [
                "print(\"Computing LPIPS(vgg) LPIPS(alex) L1 MSE\")\n",
                "metrics = get_linked_sde_pushed_loader_metrics(\n",
                "    SDEs,\n",
                "    XY_test_sampler.loader,\n",
                "    n_epochs=FID_EPOCHS,\n",
                "    verbose=True,\n",
                "    log_metrics=[\"LPIPS\", \"PSNR\", \"SSIM\", \"MSE\", \"MAE\"],\n",
                ")\n",
                "print(f\"metrics={metrics}\")"
            ]
        }
    ],
    "metadata": {
        "celltoolbar": "Tags",
        "kernelspec": {
            "display_name": "Python 3 (ipykernel)",
            "language": "python",
            "name": "python3"
        },
        "language_info": {
            "codemirror_mode": {
                "name": "ipython",
                "version": 3
            },
            "file_extension": ".py",
            "mimetype": "text/x-python",
            "name": "python",
            "nbconvert_exporter": "python",
            "pygments_lexer": "ipython3",
            "version": "3.9.19"
        }
    },
    "nbformat": 4,
    "nbformat_minor": 4
}
