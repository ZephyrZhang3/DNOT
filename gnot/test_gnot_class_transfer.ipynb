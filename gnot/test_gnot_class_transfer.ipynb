{
    "cells": [
        {
            "cell_type": "markdown",
            "metadata": {},
            "source": [
                "## 1. Imports\n"
            ]
        },
        {
            "cell_type": "code",
            "execution_count": 1,
            "metadata": {},
            "outputs": [],
            "source": [
                "import os\n",
                "import sys\n",
                "import gc\n",
                "import warnings\n",
                "\n",
                "import torch\n",
                "import torchvision\n",
                "import matplotlib.pyplot as plt\n",
                "\n",
                "from tensorboardX import SummaryWriter\n",
                "from torchvision.transforms import Compose, ToTensor, Resize, Normalize, Lambda\n",
                "from PIL import PngImagePlugin\n",
                "\n",
                "from IPython.display import clear_output\n",
                "\n",
                "sys.path.append(\"..\")\n",
                "from src.unet import UNet\n",
                "from src.mnistm_utils import MNISTM\n",
                "from src.fid_score import calculate_frechet_distance\n",
                "from src.tools import (\n",
                "    set_random_seed,\n",
                "    get_loader_stats,\n",
                "    get_pushed_loader_stats,\n",
                "    get_pushed_loader_metrics,\n",
                "    get_pushed_loader_accuracy,\n",
                ")\n",
                "from src.plotters import (\n",
                "    plot_pushed_images,\n",
                "    plot_pushed_random_class_images,\n",
                ")\n",
                "from src.samplers import (\n",
                "    SubsetGuidedSampler,\n",
                "    SubsetGuidedDataset,\n",
                "    get_indicies_subset,\n",
                ")\n",
                "\n",
                "\n",
                "LARGE_ENOUGH_NUMBER = 100\n",
                "PngImagePlugin.MAX_TEXT_CHUNK = LARGE_ENOUGH_NUMBER * (1024**2)\n",
                "\n",
                "warnings.filterwarnings(\"ignore\")\n",
                "\n",
                "%matplotlib inline "
            ]
        },
        {
            "cell_type": "code",
            "execution_count": 2,
            "metadata": {},
            "outputs": [],
            "source": [
                "gc.collect()\n",
                "torch.cuda.empty_cache()"
            ]
        },
        {
            "cell_type": "markdown",
            "metadata": {},
            "source": [
                "## 2. Init Config\n",
                "\n",
                "the config file `config.json` is saved at saved_models/EXP_NAME/\n",
                "\n"
            ]
        },
        {
            "cell_type": "code",
            "execution_count": 3,
            "metadata": {},
            "outputs": [],
            "source": [
                "SEED = 0x3060\n",
                "set_random_seed(SEED)\n",
                "\n",
                "# dataset choosing\n",
                "DATASET, DATASET_PATH = \"fmnist2mnist\", \"../datasets/\"\n",
                "# DATASET, DATASET_PATH = \"mnist2mnistm\", \"../datasets/\"\n",
                "# DATASET, DATASET_PATH = \"mnist2usps\", \"../datasets/\"\n",
                "# DATASET, DATASET_PATH = \"mnist2kmnist\", \"../datasets/\"\n",
                "\n",
                "IMG_SIZE = 32\n",
                "DATASET1_CHANNELS = 1\n",
                "DATASET2_CHANNELS = 1\n",
                "\n",
                "# GPU choosing\n",
                "DEVICE_IDS = [1]\n",
                "assert torch.cuda.is_available()\n",
                "torch.cuda.set_device(f\"cuda:{DEVICE_IDS[0]}\")\n",
                "\n",
                "CONTINUE = 0\n",
                "\n",
                "# All hyperparameters below is set to the values used for the experiments, which discribed in the article\n",
                "\n",
                "\n",
                "# training algorithm settings\n",
                "BATCH_SIZE = 32\n",
                "SUBSET_SIZE = 2\n",
                "NUM_LABELED = 10  # num of labeled target in training set\n",
                "\n",
                "T_ITERS = 10\n",
                "MAX_STEPS = 60000 + 1  # 2501 for testing\n",
                "COST = \"Energy\"\n",
                "SCHEDULER_MILESTONES = [10000, 20000, 30000, 40000, 50000]\n",
                "\n",
                "# plot settings\n",
                "GRAY_PLOTS = True\n",
                "\n",
                "FID_EPOCHS = 1\n",
                "\n",
                "EXP_NAME = f\"GNOT_Class_{DATASET}_{SEED}\"\n",
                "LOAD_PATH = f\"../saved_models/{EXP_NAME}/\"\n",
                "\n",
                "if not os.path.exists(LOAD_PATH):\n",
                "    raise FileNotFoundError("no such file or directory...")"
            ]
        },
        {
            "cell_type": "code",
            "execution_count": 4,
            "metadata": {},
            "outputs": [],
            "source": [
                "source_subset = torch.tensor([0, 1, 2, 3, 4, 5, 6, 7, 8, 9])\n",
                "new_labels_source = {0: 0, 1: 1, 2: 2, 3: 3, 4: 4, 5: 5, 6: 6, 7: 7, 8: 8, 9: 9}\n",
                "target_subset = torch.tensor([0, 1, 2, 3, 4, 5, 6, 7, 8, 9])\n",
                "new_labels_target = {0: 0, 1: 1, 2: 2, 3: 3, 4: 4, 5: 5, 6: 6, 7: 7, 8: 8, 9: 9}"
            ]
        },
        {
            "cell_type": "code",
            "execution_count": 5,
            "metadata": {},
            "outputs": [
                {
                    "data": {
                        "text/plain": [
                            "ResNet(\n",
                            "  (conv1): Conv2d(1, 64, kernel_size=(7, 7), stride=(2, 2), padding=(3, 3), bias=False)\n",
                            "  (bn1): BatchNorm2d(64, eps=1e-05, momentum=0.1, affine=True, track_running_stats=True)\n",
                            "  (relu): ReLU(inplace=True)\n",
                            "  (maxpool): MaxPool2d(kernel_size=3, stride=2, padding=1, dilation=1, ceil_mode=False)\n",
                            "  (layer1): Sequential(\n",
                            "    (0): BasicBlock(\n",
                            "      (conv1): Conv2d(64, 64, kernel_size=(3, 3), stride=(1, 1), padding=(1, 1), bias=False)\n",
                            "      (bn1): BatchNorm2d(64, eps=1e-05, momentum=0.1, affine=True, track_running_stats=True)\n",
                            "      (relu): ReLU(inplace=True)\n",
                            "      (conv2): Conv2d(64, 64, kernel_size=(3, 3), stride=(1, 1), padding=(1, 1), bias=False)\n",
                            "      (bn2): BatchNorm2d(64, eps=1e-05, momentum=0.1, affine=True, track_running_stats=True)\n",
                            "    )\n",
                            "    (1): BasicBlock(\n",
                            "      (conv1): Conv2d(64, 64, kernel_size=(3, 3), stride=(1, 1), padding=(1, 1), bias=False)\n",
                            "      (bn1): BatchNorm2d(64, eps=1e-05, momentum=0.1, affine=True, track_running_stats=True)\n",
                            "      (relu): ReLU(inplace=True)\n",
                            "      (conv2): Conv2d(64, 64, kernel_size=(3, 3), stride=(1, 1), padding=(1, 1), bias=False)\n",
                            "      (bn2): BatchNorm2d(64, eps=1e-05, momentum=0.1, affine=True, track_running_stats=True)\n",
                            "    )\n",
                            "  )\n",
                            "  (layer2): Sequential(\n",
                            "    (0): BasicBlock(\n",
                            "      (conv1): Conv2d(64, 128, kernel_size=(3, 3), stride=(2, 2), padding=(1, 1), bias=False)\n",
                            "      (bn1): BatchNorm2d(128, eps=1e-05, momentum=0.1, affine=True, track_running_stats=True)\n",
                            "      (relu): ReLU(inplace=True)\n",
                            "      (conv2): Conv2d(128, 128, kernel_size=(3, 3), stride=(1, 1), padding=(1, 1), bias=False)\n",
                            "      (bn2): BatchNorm2d(128, eps=1e-05, momentum=0.1, affine=True, track_running_stats=True)\n",
                            "      (downsample): Sequential(\n",
                            "        (0): Conv2d(64, 128, kernel_size=(1, 1), stride=(2, 2), bias=False)\n",
                            "        (1): BatchNorm2d(128, eps=1e-05, momentum=0.1, affine=True, track_running_stats=True)\n",
                            "      )\n",
                            "    )\n",
                            "    (1): BasicBlock(\n",
                            "      (conv1): Conv2d(128, 128, kernel_size=(3, 3), stride=(1, 1), padding=(1, 1), bias=False)\n",
                            "      (bn1): BatchNorm2d(128, eps=1e-05, momentum=0.1, affine=True, track_running_stats=True)\n",
                            "      (relu): ReLU(inplace=True)\n",
                            "      (conv2): Conv2d(128, 128, kernel_size=(3, 3), stride=(1, 1), padding=(1, 1), bias=False)\n",
                            "      (bn2): BatchNorm2d(128, eps=1e-05, momentum=0.1, affine=True, track_running_stats=True)\n",
                            "    )\n",
                            "  )\n",
                            "  (layer3): Sequential(\n",
                            "    (0): BasicBlock(\n",
                            "      (conv1): Conv2d(128, 256, kernel_size=(3, 3), stride=(2, 2), padding=(1, 1), bias=False)\n",
                            "      (bn1): BatchNorm2d(256, eps=1e-05, momentum=0.1, affine=True, track_running_stats=True)\n",
                            "      (relu): ReLU(inplace=True)\n",
                            "      (conv2): Conv2d(256, 256, kernel_size=(3, 3), stride=(1, 1), padding=(1, 1), bias=False)\n",
                            "      (bn2): BatchNorm2d(256, eps=1e-05, momentum=0.1, affine=True, track_running_stats=True)\n",
                            "      (downsample): Sequential(\n",
                            "        (0): Conv2d(128, 256, kernel_size=(1, 1), stride=(2, 2), bias=False)\n",
                            "        (1): BatchNorm2d(256, eps=1e-05, momentum=0.1, affine=True, track_running_stats=True)\n",
                            "      )\n",
                            "    )\n",
                            "    (1): BasicBlock(\n",
                            "      (conv1): Conv2d(256, 256, kernel_size=(3, 3), stride=(1, 1), padding=(1, 1), bias=False)\n",
                            "      (bn1): BatchNorm2d(256, eps=1e-05, momentum=0.1, affine=True, track_running_stats=True)\n",
                            "      (relu): ReLU(inplace=True)\n",
                            "      (conv2): Conv2d(256, 256, kernel_size=(3, 3), stride=(1, 1), padding=(1, 1), bias=False)\n",
                            "      (bn2): BatchNorm2d(256, eps=1e-05, momentum=0.1, affine=True, track_running_stats=True)\n",
                            "    )\n",
                            "  )\n",
                            "  (layer4): Sequential(\n",
                            "    (0): BasicBlock(\n",
                            "      (conv1): Conv2d(256, 512, kernel_size=(3, 3), stride=(2, 2), padding=(1, 1), bias=False)\n",
                            "      (bn1): BatchNorm2d(512, eps=1e-05, momentum=0.1, affine=True, track_running_stats=True)\n",
                            "      (relu): ReLU(inplace=True)\n",
                            "      (conv2): Conv2d(512, 512, kernel_size=(3, 3), stride=(1, 1), padding=(1, 1), bias=False)\n",
                            "      (bn2): BatchNorm2d(512, eps=1e-05, momentum=0.1, affine=True, track_running_stats=True)\n",
                            "      (downsample): Sequential(\n",
                            "        (0): Conv2d(256, 512, kernel_size=(1, 1), stride=(2, 2), bias=False)\n",
                            "        (1): BatchNorm2d(512, eps=1e-05, momentum=0.1, affine=True, track_running_stats=True)\n",
                            "      )\n",
                            "    )\n",
                            "    (1): BasicBlock(\n",
                            "      (conv1): Conv2d(512, 512, kernel_size=(3, 3), stride=(1, 1), padding=(1, 1), bias=False)\n",
                            "      (bn1): BatchNorm2d(512, eps=1e-05, momentum=0.1, affine=True, track_running_stats=True)\n",
                            "      (relu): ReLU(inplace=True)\n",
                            "      (conv2): Conv2d(512, 512, kernel_size=(3, 3), stride=(1, 1), padding=(1, 1), bias=False)\n",
                            "      (bn2): BatchNorm2d(512, eps=1e-05, momentum=0.1, affine=True, track_running_stats=True)\n",
                            "    )\n",
                            "  )\n",
                            "  (avgpool): AdaptiveAvgPool2d(output_size=(1, 1))\n",
                            "  (fc): Linear(in_features=512, out_features=10, bias=True)\n",
                            ")"
                        ]
                    },
                    "execution_count": 5,
                    "metadata": {},
                    "output_type": "execute_result"
                }
            ],
            "source": [
                "classifier = torchvision.models.resnet18()\n",
                "classifier.fc = torch.nn.Linear(in_features=512, out_features=10, bias=True)\n",
                "\n",
                "source_transform = Compose(\n",
                "    [\n",
                "        Resize((IMG_SIZE, IMG_SIZE)),\n",
                "        ToTensor(),\n",
                "        Normalize((0.5), (0.5)),\n",
                "    ]\n",
                ")\n",
                "target_transform = source_transform\n",
                "\n",
                "if DATASET == \"mnist2kmnist\":\n",
                "    source = torchvision.datasets.MNIST\n",
                "    target = torchvision.datasets.KMNIST\n",
                "    classifier.conv1 = torch.nn.Conv2d(\n",
                "        1, 64, kernel_size=(7, 7), stride=(2, 2), padding=(3, 3), bias=False\n",
                "    )\n",
                "    classifier.load_state_dict(torch.load(\"../saved_models/classifiers/kmnist.pt\"))\n",
                "\n",
                "elif DATASET == \"fmnist2mnist\":\n",
                "    source = torchvision.datasets.FashionMNIST\n",
                "    target = torchvision.datasets.MNIST\n",
                "    classifier.conv1 = torch.nn.Conv2d(\n",
                "        1, 64, kernel_size=(7, 7), stride=(2, 2), padding=(3, 3), bias=False\n",
                "    )\n",
                "    classifier.load_state_dict(torch.load(\"../saved_models/classifiers/mnist.pt\"))\n",
                "\n",
                "elif DATASET == \"mnist2usps\":\n",
                "    source = torchvision.datasets.MNIST\n",
                "    target = torchvision.datasets.USPS\n",
                "    classifier.conv1 = torch.nn.Conv2d(\n",
                "        1, 64, kernel_size=(7, 7), stride=(2, 2), padding=(3, 3), bias=False\n",
                "    )\n",
                "    classifier.load_state_dict(torch.load(\"../saved_models/classifiers/usps.pt\"))\n",
                "\n",
                "elif DATASET == \"mnist2mnistm\":\n",
                "    DATASET1_CHANNELS = 3\n",
                "    DATASET2_CHANNELS = 3\n",
                "    classifier.load_state_dict(torch.load(\"../saved_models/classifiers/mnistm.pt\"))\n",
                "    GRAY_PLOTS = False\n",
                "    source = torchvision.datasets.MNIST\n",
                "    target = MNISTM\n",
                "    source_transform = Compose(\n",
                "        [\n",
                "            Resize((IMG_SIZE, IMG_SIZE)),\n",
                "            ToTensor(),\n",
                "            Normalize((0.5), (0.5)),\n",
                "            Lambda(lambda x: -x.repeat(3, 1, 1)),\n",
                "        ]\n",
                "    )\n",
                "    target_transform = Compose(\n",
                "        [Resize(IMG_SIZE), ToTensor(), Normalize((0.5, 0.5, 0.5), (0.5, 0.5, 0.5))]\n",
                "    )\n",
                "\n",
                "classifier.cuda()\n",
                "classifier.eval()"
            ]
        },
        {
            "cell_type": "markdown",
            "metadata": {},
            "source": [
                "## 3. Initialize samplers\n"
            ]
        },
        {
            "cell_type": "code",
            "execution_count": 6,
            "metadata": {},
            "outputs": [],
            "source": [
                "source_test = source(\n",
                "    root=DATASET_PATH, train=False, download=True, transform=source_transform\n",
                ")\n",
                "source_subset_samples, source_labels, source_class_indicies = get_indicies_subset(\n",
                "    source_test,\n",
                "    new_labels=new_labels_source,\n",
                "    classes=len(source_subset),\n",
                "    subset_classes=source_subset,\n",
                ")\n",
                "source_test = torch.utils.data.TensorDataset(\n",
                "    torch.stack(source_subset_samples), torch.LongTensor(source_labels)\n",
                ")\n",
                "\n",
                "\n",
                "target_test = target(\n",
                "    root=DATASET_PATH, train=False, download=True, transform=target_transform\n",
                ")\n",
                "target_subset_samples, target_labels, target_class_indicies = get_indicies_subset(\n",
                "    target_test,\n",
                "    new_labels=new_labels_target,\n",
                "    classes=len(target_subset),\n",
                "    subset_classes=target_subset,\n",
                ")\n",
                "target_test = torch.utils.data.TensorDataset(\n",
                "    torch.stack(target_subset_samples), torch.LongTensor(target_labels)\n",
                ")\n",
                "\n",
                "full_set_test = SubsetGuidedDataset(\n",
                "    source_test,\n",
                "    target_test,\n",
                "    num_labeled=\"all\",\n",
                "    in_indicies=source_class_indicies,\n",
                "    out_indicies=target_class_indicies,\n",
                ")\n",
                "\n",
                "XY_test_sampler = SubsetGuidedSampler(full_set_test, subsetsize=1)\n",
                "\n",
                "# for accuracy\n",
                "X_test_loader = torch.utils.data.DataLoader(\n",
                "    source_test,\n",
                "    batch_size=BATCH_SIZE,\n",
                "    shuffle=False,\n",
                "    num_workers=8,\n",
                "    # pin_memory=True,\n",
                ")\n",
                "Y_test_loader = torch.utils.data.DataLoader(\n",
                "    target_test,\n",
                "    batch_size=BATCH_SIZE,\n",
                "    shuffle=False,\n",
                "    num_workers=8,\n",
                "    # pin_memory=True,\n",
                ")"
            ]
        },
        {
            "cell_type": "code",
            "execution_count": 7,
            "metadata": {},
            "outputs": [],
            "source": [
                "torch.cuda.empty_cache()\n",
                "gc.collect()\n",
                "clear_output()"
            ]
        },
        {
            "cell_type": "markdown",
            "metadata": {},
            "source": [
                "## 4. Testing"
            ]
        },
        {
            "cell_type": "markdown",
            "metadata": {},
            "source": [
                "### init models\n",
                "\n"
            ]
        },
        {
            "cell_type": "code",
            "execution_count": 8,
            "metadata": {},
            "outputs": [],
            "source": [
                "T = UNet(DATASET1_CHANNELS, DATASET2_CHANNELS, base_factor=48).cuda()"
            ]
        },
        {
            "cell_type": "markdown",
            "metadata": {},
            "source": [
                "### Load weights for continue training"
            ]
        },
        {
            "cell_type": "code",
            "execution_count": 16,
            "metadata": {},
            "outputs": [
                {
                    "name": "stdout",
                    "output_type": "stream",
                    "text": [
                        "Loading weights\n",
                        "../saved_models/GNOT_Class_fmnist2mnist_12384/T_10000_no_z.pt, loaded\n"
                    ]
                }
            ],
            "source": [
                "print(\"Loading weights\")\n",
                "\n",
                "w_path = os.path.join(LOAD_PATH, \"T_10000_no_z.pt\")  # user setting\n",
                "\n",
                "T.load_state_dict(torch.load(w_path))\n",
                "print(f\"{w_path}, loaded\")"
            ]
        },
        {
            "cell_type": "markdown",
            "metadata": {},
            "source": [
                "### Plots Test\n"
            ]
        },
        {
            "cell_type": "code",
            "execution_count": 10,
            "metadata": {},
            "outputs": [],
            "source": [
                "X_test_fixed, Y_test_fixed = XY_test_sampler.sample(10)\n",
                "X_test_fixed, Y_test_fixed = X_test_fixed.flatten(0, 1), Y_test_fixed.flatten(0, 1)"
            ]
        },
        {
            "cell_type": "code",
            "execution_count": 15,
            "metadata": {},
            "outputs": [
                {
                    "data": {
                        "image/png": "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",
                        "text/plain": [
                            "<Figure size 2250x675 with 30 Axes>"
                        ]
                    },
                    "metadata": {},
                    "output_type": "display_data"
                }
            ],
            "source": [
                "fig, axes = plot_pushed_images(X_test_fixed, Y_test_fixed, T, gray=GRAY_PLOTS)"
            ]
        },
        {
            "cell_type": "code",
            "execution_count": null,
            "metadata": {},
            "outputs": [],
            "source": [
                "fig, axes = plot_pushed_random_class_images(XY_test_sampler, T, gray=GRAY_PLOTS)"
            ]
        },
        {
            "cell_type": "markdown",
            "metadata": {},
            "source": [
                "### main testing\n"
            ]
        },
        {
            "cell_type": "code",
            "execution_count": null,
            "metadata": {},
            "outputs": [],
            "source": [
                "clear_output(wait=True)\n",
                "print(\"Plotting\")\n",
                "\n",
                "inference_T = T\n",
                "inference_T.eval()\n",
                "print(\"Fixed Test Images\")\n",
                "fig, axes = plot_pushed_images(X_test_fixed, Y_test_fixed, inference_T, gray=GRAY_PLOTS)\n",
                "plt.show(fig)\n",
                "plt.close(fig)\n",
                "print(\"Random Test Images\")\n",
                "fig, axes = plot_pushed_random_class_images(\n",
                "    XY_test_sampler, inference_T, gray=GRAY_PLOTS\n",
                ")\n",
                "plt.show(fig)\n",
                "plt.close(fig)"
            ]
        },
        {
            "cell_type": "code",
            "execution_count": null,
            "metadata": {},
            "outputs": [],
            "source": [
                "print(\"Computing FID\")\n",
                "target_mu, target_sigma = get_loader_stats(\n",
                "    Y_test_loader, BATCH_SIZE, FID_EPOCHS, verbose=True, use_Y=False\n",
                ")\n",
                "gen_mu, gen_sigma = get_pushed_loader_stats(\n",
                "    T,\n",
                "    X_test_loader,\n",
                "    n_epochs=FID_EPOCHS,\n",
                "    batch_size=BATCH_SIZE,\n",
                "    verbose=True,\n",
                ")\n",
                "fid = calculate_frechet_distance(gen_mu, gen_sigma, target_mu, target_sigma)\n",
                "print(f\"FID={fid}\")"
            ]
        },
        {
            "cell_type": "code",
            "execution_count": null,
            "metadata": {},
            "outputs": [],
            "source": [
                "print(\"Computing Accuracy\")\n",
                "accuracy = get_pushed_loader_accuracy(T, X_test_loader, classifier)"
            ]
        },
        {
            "cell_type": "code",
            "execution_count": null,
            "metadata": {},
            "outputs": [],
            "source": [
                "print(\"Computing Metrics\")\n",
                "metrics = get_pushed_loader_metrics(\n",
                "    T,\n",
                "    XY_test_sampler.loader,\n",
                "    n_epochs=FID_EPOCHS,\n",
                "    verbose=True,\n",
                "    log_metrics=[\"LPIPS\", \"PSNR\", \"SSIM\", \"MSE\", \"MAE\"],\n",
                ")\n",
                "print(f\"metrics={metrics}\")"
            ]
        }
    ],
    "metadata": {
        "kernelspec": {
            "display_name": "Python 3 (ipykernel)",
            "language": "python",
            "name": "python3"
        },
        "language_info": {
            "codemirror_mode": {
                "name": "ipython",
                "version": 3
            },
            "file_extension": ".py",
            "mimetype": "text/x-python",
            "name": "python",
            "nbconvert_exporter": "python",
            "pygments_lexer": "ipython3",
            "version": "3.9.19"
        }
    },
    "nbformat": 4,
    "nbformat_minor": 4
}