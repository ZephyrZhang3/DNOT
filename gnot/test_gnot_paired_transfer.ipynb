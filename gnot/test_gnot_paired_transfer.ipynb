{
    "cells": [
        {
            "cell_type": "markdown",
            "metadata": {},
            "source": [
                "## 1. Imports\n"
            ]
        },
        {
            "cell_type": "code",
            "execution_count": null,
            "metadata": {
                "execution": {
                    "iopub.execute_input": "2024-07-23T11:10:52.242831Z",
                    "iopub.status.busy": "2024-07-23T11:10:52.241836Z",
                    "iopub.status.idle": "2024-07-23T11:10:53.931221Z",
                    "shell.execute_reply": "2024-07-23T11:10:53.930365Z",
                    "shell.execute_reply.started": "2024-07-23T11:10:52.242760Z"
                }
            },
            "outputs": [],
            "source": [
                "import os\n",
                "import sys\n",
                "import gc\n",
                "import json\n",
                "import warnings\n",
                "\n",
                "import torch\n",
                "import torch.nn as nn\n",
                "import numpy as np\n",
                "import matplotlib.pyplot as plt\n",
                "\n",
                "from PIL import PngImagePlugin\n",
                "\n",
                "from IPython.display import clear_output\n",
                "\n",
                "sys.path.append(\"..\")\n",
                "from src.losses import VGGPerceptualLoss as VGGLoss\n",
                "from src.resnet2 import ResNet_D\n",
                "from src.unet import UNet\n",
                "from src.u2net import U2NET\n",
                "\n",
                "from src.tools import (\n",
                "    set_random_seed,\n",
                "    weights_init_D,\n",
                "    get_pushed_loader_metrics,\n",
                "    get_pushed_loader_stats,\n",
                ")\n",
                "from src.fid_score import calculate_frechet_distance\n",
                "from src.samplers import get_paired_sampler\n",
                "from src.plotters import (\n",
                "    plot_pushed_images,\n",
                "    plot_pushed_random_paired_images,\n",
                ")\n",
                "\n",
                "\n",
                "LARGE_ENOUGH_NUMBER = 100\n",
                "PngImagePlugin.MAX_TEXT_CHUNK = LARGE_ENOUGH_NUMBER * (1024**2)\n",
                "\n",
                "warnings.filterwarnings(\"ignore\")\n",
                "\n",
                "%matplotlib inline "
            ]
        },
        {
            "cell_type": "code",
            "execution_count": null,
            "metadata": {
                "execution": {
                    "iopub.execute_input": "2024-07-23T11:10:53.932636Z",
                    "iopub.status.busy": "2024-07-23T11:10:53.932392Z",
                    "iopub.status.idle": "2024-07-23T11:10:53.998094Z",
                    "shell.execute_reply": "2024-07-23T11:10:53.996936Z",
                    "shell.execute_reply.started": "2024-07-23T11:10:53.932619Z"
                }
            },
            "outputs": [],
            "source": [
                "gc.collect()\n",
                "torch.cuda.empty_cache()"
            ]
        },
        {
            "cell_type": "markdown",
            "metadata": {},
            "source": [
                "## 2. Init Config and FID stats\n",
                "\n",
                "the config file `config.json` is saved at saved_models/EXP_NAME/"
            ]
        },
        {
            "cell_type": "code",
            "execution_count": null,
            "metadata": {
                "execution": {
                    "iopub.execute_input": "2024-07-23T11:10:53.999423Z",
                    "iopub.status.busy": "2024-07-23T11:10:53.999207Z",
                    "iopub.status.idle": "2024-07-23T11:10:54.090078Z",
                    "shell.execute_reply": "2024-07-23T11:10:54.089114Z",
                    "shell.execute_reply.started": "2024-07-23T11:10:53.999402Z"
                },
                "tags": [
                    "parameters"
                ]
            },
            "outputs": [],
            "source": [
                "SEED = 0x3060\n",
                "set_random_seed(SEED)\n",
                "\n",
                "# dataset choosing\n",
                "# face2comic\n",
                "# DATASET, DATASET_PATH, MAP_NAME, REVERSE = (\n",
                "#     \"comic_faces_v1\",\n",
                "#     \"../datasets/face2comics_v1.0.0_by_Sxela\",\n",
                "#     \"comic2face\",\n",
                "#     False,\n",
                "# )\n",
                "# colored mask -> face\n",
                "DATASET, DATASET_PATH, MAP_NAME, REVERSE = (\n",
                "    \"celeba_mask\",\n",
                "    \"../datasets/CelebAMask-HQ\",\n",
                "    \"colored_mask2face\",\n",
                "    False,\n",
                ")\n",
                "# sketch -> photo\n",
                "# DATASET, DATASET_PATH, MAP_NAME, REVERSE = (\n",
                "#     \"FS2K\",\n",
                "#     \"../datasets/FS2K/\",\n",
                "#     \"sketch2photo\",\n",
                "#     False,\n",
                "# )\n",
                "\n",
                "IMG_SIZE = 256\n",
                "DATASET1_CHANNELS = 3\n",
                "DATASET2_CHANNELS = 3\n",
                "\n",
                "# GPU choosing\n",
                "DEVICE_IDS = [1]\n",
                "assert torch.cuda.is_available()\n",
                "torch.cuda.set_device(f\"cuda:{DEVICE_IDS[0]}\")\n",
                "\n",
                "CONTINUE = 0\n",
                "\n",
                "# All hyperparameters below is set to the values used for the experiments, which discribed in the article\n",
                "\n",
                "# training algorithm settings\n",
                "BATCH_SIZE = 32\n",
                "T_ITERS = 10\n",
                "MAX_STEPS = 30000 + 1  # 2501 for testing\n",
                "COST = \"vgg\"  #'mse' # 'mae' # 'vgg'\n",
                "\n",
                "# network settings\n",
                "T_TYPE = \"U2Net\"  # 'UNet' # or  ('ResNet_pix2pix' - not implemented)\n",
                "D_TYPE = (\n",
                "    \"ResNet\"  # or 'ResNet_pix2pix' - DOES NOT WORK WELL (it is actually not a resnet:)\n",
                ")\n",
                "\n",
                "D_NORM = \"none\"  # For our ResNet_D uses the \"batchnorm\" or \"none\".\n",
                "CONDITIONAL = False  # Test conditional NOT (not needed anymore)\n",
                "NOT = True  # Train Neural optimal transport or pure regression\n",
                "\n",
                "# plot settings\n",
                "GRAY_PLOTS = False\n",
                "\n",
                "FID_EPOCHS = 1\n",
                "\n",
                "EXP_NAME = f\"GNOT_Paired_{DATASET}_{SEED}\"\n",
                "OUTPUT_PATH = f\"../saved_models/{EXP_NAME}/\"\n",
                "\n",
                "if not os.path.exists(OUTPUT_PATH):\n",
                "    raise \"no such file or directory\""
            ]
        },
        {
            "cell_type": "code",
            "execution_count": null,
            "metadata": {
                "execution": {
                    "iopub.execute_input": "2024-07-23T11:10:54.435387Z",
                    "iopub.status.busy": "2024-07-23T11:10:54.434714Z",
                    "iopub.status.idle": "2024-07-23T11:10:59.308385Z",
                    "shell.execute_reply": "2024-07-23T11:10:59.306994Z",
                    "shell.execute_reply.started": "2024-07-23T11:10:54.435342Z"
                }
            },
            "outputs": [],
            "source": [
                "if COST == \"vgg\":\n",
                "    vgg_loss = VGGLoss().cuda()"
            ]
        },
        {
            "cell_type": "markdown",
            "metadata": {},
            "source": [
                "### load FID stats"
            ]
        },
        {
            "cell_type": "code",
            "execution_count": null,
            "metadata": {
                "execution": {
                    "iopub.execute_input": "2024-07-23T11:10:59.310554Z",
                    "iopub.status.busy": "2024-07-23T11:10:59.310120Z",
                    "iopub.status.idle": "2024-07-23T11:11:00.951671Z",
                    "shell.execute_reply": "2024-07-23T11:11:00.950780Z",
                    "shell.execute_reply.started": "2024-07-23T11:10:59.310532Z"
                }
            },
            "outputs": [],
            "source": [
                "if not REVERSE:\n",
                "    filename = f\"../stats/{DATASET}_{MAP_NAME.split('2')[1]}_{IMG_SIZE}_test.json\"\n",
                "else:\n",
                "    filename = f\"../stats/{DATASET}_{MAP_NAME.split('2')[0]}_{IMG_SIZE}_test.json\"\n",
                "\n",
                "with open(filename, \"r\") as fp:\n",
                "    data_stats = json.load(fp)\n",
                "    target_mu, target_sigma = data_stats[\"mu\"], data_stats[\"sigma\"]\n",
                "del data_stats"
            ]
        },
        {
            "cell_type": "markdown",
            "metadata": {},
            "source": [
                "## 3. Initialize samplers\n"
            ]
        },
        {
            "cell_type": "code",
            "execution_count": null,
            "metadata": {
                "execution": {
                    "iopub.execute_input": "2024-07-23T11:11:00.953133Z",
                    "iopub.status.busy": "2024-07-23T11:11:00.952861Z",
                    "iopub.status.idle": "2024-07-23T11:11:03.007591Z",
                    "shell.execute_reply": "2024-07-23T11:11:03.006334Z",
                    "shell.execute_reply.started": "2024-07-23T11:11:00.953115Z"
                }
            },
            "outputs": [],
            "source": [
                "_, XY_test_sampler = get_paired_sampler(\n",
                "    DATASET, DATASET_PATH, img_size=IMG_SIZE, reverse=REVERSE, batch_size=BATCH_SIZE\n",
                ")\n",
                "\n",
                "torch.cuda.empty_cache()\n",
                "gc.collect()\n",
                "clear_output()"
            ]
        },
        {
            "cell_type": "markdown",
            "metadata": {},
            "source": [
                "## 4. Testing\n"
            ]
        },
        {
            "cell_type": "markdown",
            "metadata": {},
            "source": [
                "### init models"
            ]
        },
        {
            "cell_type": "code",
            "execution_count": null,
            "metadata": {
                "execution": {
                    "iopub.execute_input": "2024-07-23T11:11:03.010210Z",
                    "iopub.status.busy": "2024-07-23T11:11:03.009659Z",
                    "iopub.status.idle": "2024-07-23T11:11:03.876923Z",
                    "shell.execute_reply": "2024-07-23T11:11:03.875507Z",
                    "shell.execute_reply.started": "2024-07-23T11:11:03.010174Z"
                }
            },
            "outputs": [],
            "source": [
                "if D_TYPE == \"ResNet\":\n",
                "    D = ResNet_D(\n",
                "        IMG_SIZE,\n",
                "        nc=3 if not CONDITIONAL else 6,\n",
                "        bn=D_NORM != \"none\",\n",
                "    ).cuda()\n",
                "    D.apply(weights_init_D)\n",
                "else:\n",
                "    raise NotImplementedError(\"Unknown D_TYPE: {}\".format(D_TYPE))\n",
                "\n",
                "if T_TYPE == \"UNet\":\n",
                "    T = UNet(DATASET1_CHANNELS, DATASET2_CHANNELS, base_factor=48).cuda()\n",
                "elif T_TYPE == \"U2Net\":\n",
                "    T = U2NET(in_ch=DATASET1_CHANNELS, out_ch=DATASET2_CHANNELS).cuda()\n",
                "else:\n",
                "    raise NotImplementedError(\"Unknown T_TYPE: {}\".format(T_TYPE))\n",
                "\n",
                "if len(DEVICE_IDS) > 1:\n",
                "    T = nn.DataParallel(T, device_ids=DEVICE_IDS)\n",
                "    D = nn.DataParallel(D, device_ids=DEVICE_IDS)\n",
                "\n",
                "print(\"T params:\", np.sum([np.prod(p.shape) for p in T.parameters()]))\n",
                "print(\"D params:\", np.sum([np.prod(p.shape) for p in D.parameters()]))"
            ]
        },
        {
            "cell_type": "markdown",
            "metadata": {},
            "source": [
                "### load weights"
            ]
        },
        {
            "cell_type": "code",
            "execution_count": null,
            "metadata": {
                "execution": {
                    "iopub.execute_input": "2024-07-23T11:11:03.878828Z",
                    "iopub.status.busy": "2024-07-23T11:11:03.878365Z",
                    "iopub.status.idle": "2024-07-23T11:11:04.100383Z",
                    "shell.execute_reply": "2024-07-23T11:11:04.099244Z",
                    "shell.execute_reply.started": "2024-07-23T11:11:03.878801Z"
                }
            },
            "outputs": [],
            "source": [
                "print(\"Loading weights\")\n",
                "\n",
                "CKPT_DIR = os.path.join(OUTPUT_PATH)  # user setting\n",
                "\n",
                "T.load_state_dict(torch.load(os.path.join(CKPT_DIR, f\"T_{SEED}_{MAX_STEPS - 1}.pt\")))\n",
                "print(f\"{CKPT_DIR} T_{SEED}_{MAX_STEPS - 1}.pt, loaded\")\n",
                "\n",
                "D.load_state_dict(torch.load(os.path.join(CKPT_DIR, f\"D_{SEED}_{MAX_STEPS - 1}.pt\")))\n",
                "print(f\"{CKPT_DIR} D_{SEED}_{MAX_STEPS - 1}.pt, loaded\")"
            ]
        },
        {
            "cell_type": "markdown",
            "metadata": {},
            "source": [
                "### Plots Test"
            ]
        },
        {
            "cell_type": "code",
            "execution_count": null,
            "metadata": {},
            "outputs": [],
            "source": [
                "X_test_fixed, Y_test_fixed = XY_test_sampler.sample(10)"
            ]
        },
        {
            "cell_type": "markdown",
            "metadata": {},
            "source": [
                "### Plots Test\n"
            ]
        },
        {
            "cell_type": "code",
            "execution_count": null,
            "metadata": {},
            "outputs": [],
            "source": [
                "fig, axes = plot_pushed_images(X_test_fixed, Y_test_fixed, T)"
            ]
        },
        {
            "cell_type": "code",
            "execution_count": null,
            "metadata": {},
            "outputs": [],
            "source": [
                "fig, axes = plot_pushed_random_paired_images(XY_test_sampler, T)"
            ]
        },
        {
            "cell_type": "markdown",
            "metadata": {},
            "source": [
                "### main testing\n"
            ]
        },
        {
            "cell_type": "code",
            "execution_count": null,
            "metadata": {},
            "outputs": [],
            "source": [
                "clear_output(wait=True)\n",
                "print(\"Plotting\")\n",
                "\n",
                "inference_T = T\n",
                "inference_T.eval()\n",
                "\n",
                "print(\"Fixed Test Images\")\n",
                "fig, axes = plot_pushed_images(X_test_fixed, Y_test_fixed, inference_T, gray=GRAY_PLOTS)\n",
                "plt.show(fig)\n",
                "plt.close(fig)\n",
                "\n",
                "print(\"Random Test Images\")\n",
                "fig, axes = plot_pushed_random_paired_images(\n",
                "    XY_test_sampler, inference_T, gray=GRAY_PLOTS\n",
                ")\n",
                "plt.show(fig)\n",
                "plt.close(fig)"
            ]
        },
        {
            "cell_type": "code",
            "execution_count": null,
            "metadata": {},
            "outputs": [],
            "source": [
                "print(\"Computing FID\")\n",
                "gen_mu, gen_sigma = get_pushed_loader_stats(\n",
                "    T,\n",
                "    XY_test_sampler.loader,\n",
                "    n_epochs=FID_EPOCHS,\n",
                "    batch_size=BATCH_SIZE,\n",
                "    verbose=True,\n",
                ")\n",
                "fid = calculate_frechet_distance(gen_mu, gen_sigma, target_mu, target_sigma)\n",
                "print(f\"FID={fid}\")\n",
                "del gen_mu, gen_sigma"
            ]
        },
        {
            "cell_type": "code",
            "execution_count": null,
            "metadata": {},
            "outputs": [],
            "source": [
                "print(\"Computing Metrics\")\n",
                "metrics = get_pushed_loader_metrics(\n",
                "    T,\n",
                "    XY_test_sampler.loader,\n",
                "    n_epochs=FID_EPOCHS,\n",
                "    verbose=True,\n",
                "    log_metrics=[\"LPIPS\", \"PSNR\", \"SSIM\", \"MSE\", \"MAE\"],\n",
                ")\n",
                "print(f\"metrics={metrics}\")"
            ]
        },
        {
            "cell_type": "code",
            "execution_count": null,
            "metadata": {},
            "outputs": [],
            "source": []
        }
    ],
    "metadata": {
        "celltoolbar": "Tags",
        "kernelspec": {
            "display_name": "Python 3 (ipykernel)",
            "language": "python",
            "name": "python3"
        },
        "language_info": {
            "codemirror_mode": {
                "name": "ipython",
                "version": 3
            },
            "file_extension": ".py",
            "mimetype": "text/x-python",
            "name": "python",
            "nbconvert_exporter": "python",
            "pygments_lexer": "ipython3",
            "version": "3.9.19"
        }
    },
    "nbformat": 4,
    "nbformat_minor": 4
}
