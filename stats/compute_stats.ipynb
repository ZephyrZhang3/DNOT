{
 "cells": [
  {
   "cell_type": "code",
   "execution_count": 2,
   "metadata": {},
   "outputs": [],
   "source": [
    "import sys\n",
    "\n",
    "sys.path.append(\"..\")\n",
    "\n",
    "import numpy as np\n",
    "\n",
    "%matplotlib inline \n",
    "\n",
    "import gc\n",
    "import json\n",
    "\n",
    "import torch\n",
    "\n",
    "# This needed to use dataloaders for some datasets\n",
    "from PIL import PngImagePlugin\n",
    "from tqdm.auto import tqdm\n",
    "\n",
    "from src.samplers import get_loader_sampler, get_paired_sampler\n",
    "from src.tools import get_loader_stats\n",
    "\n",
    "LARGE_ENOUGH_NUMBER = 100\n",
    "PngImagePlugin.MAX_TEXT_CHUNK = LARGE_ENOUGH_NUMBER * (1024**2)"
   ]
  },
  {
   "cell_type": "code",
   "execution_count": 3,
   "metadata": {},
   "outputs": [],
   "source": [
    "gc.collect()\n",
    "torch.cuda.empty_cache()"
   ]
  },
  {
   "cell_type": "markdown",
   "metadata": {},
   "source": [
    "## Main Config\n"
   ]
  },
  {
   "cell_type": "markdown",
   "metadata": {},
   "source": [
    "### paired data(X-Y: img-img)\n"
   ]
  },
  {
   "cell_type": "code",
   "execution_count": 4,
   "metadata": {
    "tags": [
     "parameters"
    ]
   },
   "outputs": [],
   "source": [
    "DEVICE_ID = 0\n",
    "\n",
    "BATCH_SIZE = 64\n",
    "FID_EPOCHS = 1\n",
    "DATASET_LIST = [\n",
    "    (\"celeba_mask\", \"../datasets/CelebAMask-HQ\", 256, \"colored_mask2face\", False),\n",
    "    (\"celeba_mask\", \"../datasets/CelebAMask-HQ\", 256, \"colored_mask2face\", True),\n",
    "    (\"FS2K\", \"../datasets/FS2K/\", 256, \"sketch2photo\", False),\n",
    "    (\"FS2K\", \"../datasets/FS2K/\", 256, \"sketch2photo\", True),\n",
    "    (\n",
    "        \"comic_faces_v1\",\n",
    "        \"../datasets/face2comics_v1.0.0_by_Sxela\",\n",
    "        256,\n",
    "        \"face2comic\",\n",
    "        False,\n",
    "    ),\n",
    "    (\n",
    "        \"comic_faces_v1\",\n",
    "        \"../datasets/face2comics_v1.0.0_by_Sxela\",\n",
    "        256,\n",
    "        \"face2comic\",\n",
    "        True,\n",
    "    ),\n",
    "]\n",
    "\n",
    "assert torch.cuda.is_available()\n",
    "torch.cuda.set_device(f\"cuda:{DEVICE_ID}\")"
   ]
  },
  {
   "cell_type": "code",
   "execution_count": 5,
   "metadata": {},
   "outputs": [
    {
     "data": {
      "application/vnd.jupyter.widget-view+json": {
       "model_id": "fe7429d2bc3946f9b9cd867e85467e0e",
       "version_major": 2,
       "version_minor": 0
      },
      "text/plain": [
       "  0%|          | 0/6 [00:00<?, ?it/s]"
      ]
     },
     "metadata": {},
     "output_type": "display_data"
    },
    {
     "name": "stdout",
     "output_type": "stream",
     "text": [
      "Processing dataset: celeba_mask, image size: 256, use Y: False\n",
      "Dataset celeba_mask loaded\n"
     ]
    },
    {
     "data": {
      "text/plain": [
       "'Epoch 1/1: Processing batch 47/47'"
      ]
     },
     "metadata": {},
     "output_type": "display_data"
    },
    {
     "name": "stderr",
     "output_type": "stream",
     "text": [
      "/root/DNOT/.venv/lib/python3.9/site-packages/torch/nn/functional.py:718: UserWarning: Named tensors and all their associated APIs are an experimental feature and subject to change. Please do not use them for anything important until they are released as stable. (Triggered internally at  /pytorch/c10/core/TensorImpl.h:1156.)\n",
      "  return torch.max_pool2d(input, kernel_size, stride, padding, dilation, ceil_mode)\n"
     ]
    },
    {
     "name": "stdout",
     "output_type": "stream",
     "text": [
      "Trace of sigma: 63.48624262914124\n",
      "Stats computed\n",
      "States saved to celeba_mask_colored_mask_256_test.json\n",
      "Processing dataset: celeba_mask, image size: 256, use Y: True\n",
      "Dataset celeba_mask loaded\n"
     ]
    },
    {
     "data": {
      "text/plain": [
       "'Epoch 1/1: Processing batch 8/47'"
      ]
     },
     "metadata": {},
     "output_type": "display_data"
    }
   ],
   "source": [
    "for DATASET, DATASET_PATH, IMG_SIZE, MAP_NAME, USE_Y in tqdm(DATASET_LIST):\n",
    "    print(f\"Processing dataset: {DATASET}, image size: {IMG_SIZE}, use Y: {USE_Y}\")\n",
    "    train_sampler, test_sampler = get_paired_sampler(\n",
    "        DATASET, DATASET_PATH, IMG_SIZE, batch_size=BATCH_SIZE\n",
    "    )\n",
    "    print(\"Dataset {} loaded\".format(DATASET))\n",
    "    mu, sigma = get_loader_stats(\n",
    "        test_sampler.loader,\n",
    "        n_epochs=FID_EPOCHS,\n",
    "        batch_size=BATCH_SIZE,\n",
    "        use_Y=USE_Y,\n",
    "        verbose=True,\n",
    "    )\n",
    "    print(\"Trace of sigma: {}\".format(np.trace(sigma)))\n",
    "    stats = {\"mu\": mu.tolist(), \"sigma\": sigma.tolist()}\n",
    "    print(\"Stats computed\")\n",
    "    if USE_Y:\n",
    "        filename = f\"{DATASET}_{MAP_NAME.split('2')[1]}_{IMG_SIZE}_test.json\"\n",
    "    else:\n",
    "        filename = f\"{DATASET}_{MAP_NAME.split('2')[0]}_{IMG_SIZE}_test.json\"\n",
    "\n",
    "    with open(filename, \"w\") as fp:\n",
    "        json.dump(stats, fp)\n",
    "    print(\"States saved to {}\".format(filename))"
   ]
  },
  {
   "cell_type": "markdown",
   "metadata": {},
   "source": [
    "### single dataset(X-Y: img-label)\n"
   ]
  },
  {
   "cell_type": "code",
   "execution_count": null,
   "metadata": {},
   "outputs": [],
   "source": [
    "DEVICE_ID = 0\n",
    "\n",
    "BATCH_SIZE = 64\n",
    "FID_EPOCHS = 1\n",
    "DATASET_LIST = [\n",
    "    # (\"CelebA_high\", \"/gpfs/data/gpfs0/n.gushchin/img_align_celeba\", 64),\n",
    "    (\"MNIST-colored_3\", \"../datasets/\", 32),\n",
    "    (\"MNIST-colored_2\", \"../datasets/\", 32),\n",
    "]\n",
    "\n",
    "assert torch.cuda.is_available()\n",
    "torch.cuda.set_device(f\"cuda:{DEVICE_ID}\")"
   ]
  },
  {
   "cell_type": "code",
   "execution_count": null,
   "metadata": {},
   "outputs": [],
   "source": [
    "for DATASET, DATASET_PATH, IMG_SIZE in tqdm(DATASET_LIST):\n",
    "    print(\"Processing {}\".format(DATASET))\n",
    "\n",
    "    train_sampler, test_sampler = get_loader_sampler(\n",
    "        DATASET, DATASET_PATH, img_size=IMG_SIZE, batch_size=BATCH_SIZE\n",
    "    )\n",
    "    print(\"Dataset {} loaded\".format(DATASET))\n",
    "\n",
    "    mu, sigma = get_loader_stats(\n",
    "        test_sampler.loader,\n",
    "        n_epochs=FID_EPOCHS,\n",
    "        batch_size=BATCH_SIZE,\n",
    "        use_Y=False,\n",
    "        verbose=True,\n",
    "    )\n",
    "    print(\"Trace of sigma: {}\".format(np.trace(sigma)))\n",
    "    stats = {\"mu\": mu.tolist(), \"sigma\": sigma.tolist()}\n",
    "    print(\"Stats computed\")\n",
    "\n",
    "    filename = \"{}_{}_test.json\".format(DATASET, IMG_SIZE)\n",
    "    with open(filename, \"w\") as fp:\n",
    "        json.dump(stats, fp)\n",
    "    print(\"States saved to {}\".format(filename))"
   ]
  },
  {
   "cell_type": "code",
   "execution_count": null,
   "metadata": {},
   "outputs": [],
   "source": []
  }
 ],
 "metadata": {
  "celltoolbar": "Tags",
  "kernelspec": {
   "display_name": "Python 3 (ipykernel)",
   "language": "python",
   "name": "python3"
  },
  "language_info": {
   "codemirror_mode": {
    "name": "ipython",
    "version": 3
   },
   "file_extension": ".py",
   "mimetype": "text/x-python",
   "name": "python",
   "nbconvert_exporter": "python",
   "pygments_lexer": "ipython3",
   "version": "3.9.19"
  }
 },
 "nbformat": 4,
 "nbformat_minor": 4
}
