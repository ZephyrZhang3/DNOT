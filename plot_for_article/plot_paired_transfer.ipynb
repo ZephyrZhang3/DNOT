{
    "cells": [
        {
            "cell_type": "markdown",
            "metadata": {},
            "source": [
                "## Imports\n"
            ]
        },
        {
            "cell_type": "code",
            "execution_count": null,
            "metadata": {},
            "outputs": [],
            "source": [
                "import os\n",
                "import sys\n",
                "import gc\n",
                "import warnings\n",
                "\n",
                "import torch\n",
                "import numpy as np\n",
                "from PIL import PngImagePlugin\n",
                "\n",
                "from IPython.display import clear_output\n",
                "\n",
                "sys.path.append(\"..\")\n",
                "from src.cunet import CUNet\n",
                "from src.enot import SDE\n",
                "from src.unet import UNet\n",
                "from src.tools import (\n",
                "    set_random_seed,\n",
                ")\n",
                "from src.plotters import (\n",
                "    plot_pushed_images,\n",
                "    plot_pushed_random_paired_images,\n",
                "    plot_sde_pushed_images,\n",
                "    plot_sde_pushed_random_paired_images,\n",
                "    plot_linked_pushed_images,\n",
                "    plot_linked_pushed_random_paired_images,\n",
                "    plot_linked_sde_pushed_images,\n",
                "    plot_linked_sde_pushed_random_paired_images,\n",
                ")\n",
                "from src.samplers import get_paired_sampler\n",
                "\n",
                "\n",
                "LARGE_ENOUGH_NUMBER = 100\n",
                "PngImagePlugin.MAX_TEXT_CHUNK = LARGE_ENOUGH_NUMBER * (1024**2)\n",
                "\n",
                "warnings.filterwarnings(\"ignore\")\n",
                "\n",
                "%matplotlib inline "
            ]
        },
        {
            "cell_type": "code",
            "execution_count": null,
            "metadata": {},
            "outputs": [],
            "source": [
                "gc.collect()\n",
                "torch.cuda.empty_cache()"
            ]
        },
        {
            "cell_type": "markdown",
            "metadata": {},
            "source": [
                "## General Config"
            ]
        },
        {
            "cell_type": "code",
            "execution_count": null,
            "metadata": {},
            "outputs": [],
            "source": [
                "SEED = 0x0000\n",
                "set_random_seed(SEED)\n",
                "\n",
                "# dataset choosing\n",
                "# face2comic\n",
                "# DATASET, DATASET_PATH, REVERSE = 'comic_faces_v1', '../datasets/face2comics_v1.0.0_by_Sxela', \"face2comic\", False\n",
                "# colored mask -> face\n",
                "# DATASET, DATASET_PATH, REVERSE = \"celeba_mask\", \"../datasets/CelebAMask-HQ\", \"colored_mask2face\", False\n",
                "# sketch -> photo\n",
                "DATASET, DATASET_PATH, MAP_NAME, REVERSE = (\n",
                "    \"FS2K\",\n",
                "    \"../datasets/FS2K/\",\n",
                "    \"sketch2photo\",\n",
                "    False,\n",
                ")\n",
                "\n",
                "IMG_SIZE = 256\n",
                "DATASET1_CHANNELS = 3\n",
                "DATASET2_CHANNELS = 3\n",
                "\n",
                "# GPU choosing\n",
                "DEVICE_IDS = [1]\n",
                "assert torch.cuda.is_available()\n",
                "torch.cuda.set_device(f\"cuda:{DEVICE_IDS[0]}\")\n",
                "\n",
                "# training algorithm settings\n",
                "BATCH_SIZE = 32\n",
                "SUBSET_SIZE = 2\n",
                "SUBSET_CLASS = 3\n",
                "\n",
                "# plot settings\n",
                "GRAY_PLOTS = True\n",
                "\n",
                "FID_EPOCHS = 1"
            ]
        },
        {
            "cell_type": "markdown",
            "metadata": {},
            "source": [
                "## Initialize samplers\n"
            ]
        },
        {
            "cell_type": "code",
            "execution_count": null,
            "metadata": {},
            "outputs": [],
            "source": [
                "_, XY_test_sampler = get_paired_sampler(\n",
                "    DATASET, DATASET_PATH, img_size=IMG_SIZE, batch_size=BATCH_SIZE, reverse=REVERSE\n",
                ")"
            ]
        },
        {
            "cell_type": "code",
            "execution_count": null,
            "metadata": {},
            "outputs": [],
            "source": [
                "torch.cuda.empty_cache()\n",
                "gc.collect()\n",
                "clear_output()"
            ]
        },
        {
            "cell_type": "code",
            "execution_count": null,
            "metadata": {},
            "outputs": [],
            "source": [
                "X_test_fixed, Y_test_fixed = XY_test_sampler.sample(10)"
            ]
        },
        {
            "cell_type": "markdown",
            "metadata": {},
            "source": [
                "## GNOT"
            ]
        },
        {
            "cell_type": "code",
            "execution_count": null,
            "metadata": {},
            "outputs": [],
            "source": [
                "EXP_NAME = f\"GNOT_Unpair_{DATASET}_{SEED}\"\n",
                "LOAD_PATH = f\"../saved_models/{EXP_NAME}/\"\n",
                "\n",
                "if not os.path.exists(LOAD_PATH):\n",
                "    raise FileNotFoundError(\"no such file or directory...\")"
            ]
        },
        {
            "cell_type": "markdown",
            "metadata": {},
            "source": [
                "### init model"
            ]
        },
        {
            "cell_type": "code",
            "execution_count": null,
            "metadata": {},
            "outputs": [],
            "source": [
                "T = UNet(DATASET1_CHANNELS, DATASET2_CHANNELS, base_factor=48).cuda()"
            ]
        },
        {
            "cell_type": "markdown",
            "metadata": {},
            "source": [
                "### load weights"
            ]
        },
        {
            "cell_type": "code",
            "execution_count": null,
            "metadata": {},
            "outputs": [],
            "source": [
                "print(\"Loading weights\")\n",
                "\n",
                "w_path = os.path.join(LOAD_PATH, \"T_10000_no_z.pt\")  # user setting\n",
                "\n",
                "T.load_state_dict(torch.load(w_path))\n",
                "print(f\"{w_path}, loaded\")"
            ]
        },
        {
            "cell_type": "markdown",
            "metadata": {},
            "source": [
                "### plot"
            ]
        },
        {
            "cell_type": "code",
            "execution_count": null,
            "metadata": {},
            "outputs": [],
            "source": [
                "fig, axes = plot_pushed_images(\n",
                "    X_test_fixed,\n",
                "    Y_test_fixed,\n",
                "    T,\n",
                "    gray=GRAY_PLOTS,\n",
                "    savefig=True,\n",
                "    save_path=\"./figs/Paired/GNOT/fix\",\n",
                ")"
            ]
        },
        {
            "cell_type": "code",
            "execution_count": null,
            "metadata": {},
            "outputs": [],
            "source": [
                "fig, axes = plot_pushed_random_paired_images(\n",
                "    XY_test_sampler,\n",
                "    T,\n",
                "    plot_n_samples=10,\n",
                "    gray=GRAY_PLOTS,\n",
                "    savefig=True,\n",
                "    save_path=\"./figs/Paired/GNOT/random\",\n",
                ")"
            ]
        },
        {
            "cell_type": "markdown",
            "metadata": {},
            "source": [
                "## ENOT"
            ]
        },
        {
            "cell_type": "code",
            "execution_count": null,
            "metadata": {},
            "outputs": [],
            "source": [
                "# SDE network settings\n",
                "EPSILON = 0  # [0 , 1, 10]\n",
                "IMAGE_INPUT = True\n",
                "PREDICT_SHIFT = True\n",
                "N_STEPS = 5  #\n",
                "UNET_BASE_FACTOR = 128\n",
                "TIME_DIM = 128\n",
                "USE_POSITIONAL_ENCODING = True\n",
                "ONE_STEP_INIT_ITERS = 0\n",
                "USE_GRADIENT_CHECKPOINT = False\n",
                "N_LAST_STEPS_WITHOUT_NOISE = 1"
            ]
        },
        {
            "cell_type": "code",
            "execution_count": null,
            "metadata": {},
            "outputs": [],
            "source": [
                "EXP_NAME = f\"ENOT_Unpair_{DATASET}_{SEED}\"\n",
                "LOAD_PATH = f\"../saved_models/{EXP_NAME}/\"\n",
                "\n",
                "if not os.path.exists(LOAD_PATH):\n",
                "    raise FileNotFoundError(\"no such file or directory...\")"
            ]
        },
        {
            "cell_type": "markdown",
            "metadata": {},
            "source": [
                "### init model"
            ]
        },
        {
            "cell_type": "code",
            "execution_count": null,
            "metadata": {},
            "outputs": [],
            "source": [
                "T = CUNet(\n",
                "    DATASET1_CHANNELS, DATASET2_CHANNELS, TIME_DIM, base_factor=UNET_BASE_FACTOR\n",
                ").cuda()\n",
                "\n",
                "T = SDE(\n",
                "    shift_model=T,\n",
                "    epsilon=EPSILON,\n",
                "    n_steps=N_STEPS,\n",
                "    time_dim=TIME_DIM,\n",
                "    n_last_steps_without_noise=N_LAST_STEPS_WITHOUT_NOISE,\n",
                "    use_positional_encoding=USE_POSITIONAL_ENCODING,\n",
                "    use_gradient_checkpoint=USE_GRADIENT_CHECKPOINT,\n",
                "    predict_shift=PREDICT_SHIFT,\n",
                "    image_input=IMAGE_INPUT,\n",
                ").cuda()\n",
                "\n",
                "print(\"T params:\", np.sum([np.prod(p.shape) for p in T.parameters()]))"
            ]
        },
        {
            "cell_type": "markdown",
            "metadata": {},
            "source": [
                "### Load weights\n"
            ]
        },
        {
            "cell_type": "code",
            "execution_count": null,
            "metadata": {},
            "outputs": [],
            "source": [
                "print(\"Loading weights\")\n",
                "\n",
                "w_path = os.path.join(LOAD_PATH, f\"T_{SEED}_5000.pt\")  # user setting\n",
                "\n",
                "T.load_state_dict(torch.load(w_path))\n",
                "\n",
                "print(f\"{w_path}, loaded\")"
            ]
        },
        {
            "cell_type": "markdown",
            "metadata": {},
            "source": [
                "### plot"
            ]
        },
        {
            "cell_type": "code",
            "execution_count": null,
            "metadata": {},
            "outputs": [],
            "source": [
                "fig, axes = plot_sde_pushed_images(\n",
                "    X_test_fixed,\n",
                "    Y_test_fixed,\n",
                "    T,\n",
                "    gray=GRAY_PLOTS,\n",
                "    plot_trajectory=False,\n",
                "    savefig=True,\n",
                "    save_path=\"./figs/Paired/ENOT/fix\",\n",
                ")"
            ]
        },
        {
            "cell_type": "code",
            "execution_count": null,
            "metadata": {},
            "outputs": [],
            "source": [
                "fig, axes = plot_sde_pushed_random_paired_images(\n",
                "    XY_test_sampler,\n",
                "    T,\n",
                "    plot_n_samples=10,\n",
                "    gray=GRAY_PLOTS,\n",
                "    plot_trajectory=False,\n",
                "    savefig=True,\n",
                "    save_path=\"./figs/Paired/ENOT/random\",\n",
                ")"
            ]
        },
        {
            "cell_type": "markdown",
            "metadata": {},
            "source": [
                "## DNOT"
            ]
        },
        {
            "cell_type": "code",
            "execution_count": null,
            "metadata": {},
            "outputs": [],
            "source": [
                "# the step number adding noise in diffusion process\n",
                "DIFFUSION_STEPS = 1000\n",
                "PIVOTAL_LIST = [20, 50, 100]  # [0, 100] for testing,  [0, 20, 50, 100]\n",
                "# training algorithm settings\n",
                "STRATEGY = \"Adapt\"  # 'Fix' or 'Adapt'\n",
                "# model settings\n",
                "UNET_BASE_FACTOR = 48"
            ]
        },
        {
            "cell_type": "code",
            "execution_count": null,
            "metadata": {},
            "outputs": [],
            "source": [
                "EXP_NAME = f\"DNOT_paired_{DATASET}_{STRATEGY}_{SEED}\"\n",
                "LOAD_PATH = f\"../saved_models/{EXP_NAME}/\"\n",
                "\n",
                "if not os.path.exists(LOAD_PATH):\n",
                "    raise FileNotFoundError(\"no such file or directory...\")"
            ]
        },
        {
            "cell_type": "markdown",
            "metadata": {},
            "source": [
                "### init model"
            ]
        },
        {
            "cell_type": "code",
            "execution_count": null,
            "metadata": {},
            "outputs": [],
            "source": [
                "Ts = []\n",
                "\n",
                "for i in range(len(PIVOTAL_LIST) * 2):\n",
                "    T = UNet(DATASET1_CHANNELS, DATASET2_CHANNELS, base_factor=UNET_BASE_FACTOR).cuda()\n",
                "    Ts.append(T)"
            ]
        },
        {
            "cell_type": "markdown",
            "metadata": {},
            "source": [
                "### load weights\n"
            ]
        },
        {
            "cell_type": "code",
            "execution_count": null,
            "metadata": {},
            "outputs": [],
            "source": [
                "print(\"Loading weights\")\n",
                "\n",
                "CKPT_DIR = os.path.join(LOAD_PATH, f\"iter{2000}\")  # user setting\n",
                "for i, T in enumerate(Ts):\n",
                "    w_path = os.path.join(CKPT_DIR, f\"T{i}_{SEED}.pt\")\n",
                "    T.load_state_dict(torch.load(w_path))\n",
                "    print(f\"{w_path}, loaded\")"
            ]
        },
        {
            "cell_type": "markdown",
            "metadata": {},
            "source": [
                "### plot"
            ]
        },
        {
            "cell_type": "code",
            "execution_count": null,
            "metadata": {},
            "outputs": [],
            "source": [
                "fig, axes = plot_linked_pushed_images(\n",
                "    X_test_fixed,\n",
                "    Y_test_fixed,\n",
                "    Ts,\n",
                "    gray=GRAY_PLOTS,\n",
                "    plot_trajectory=False,\n",
                "    savefig=True,\n",
                "    save_path=\"./figs/Paired/DNOT/fix\",\n",
                ")"
            ]
        },
        {
            "cell_type": "code",
            "execution_count": null,
            "metadata": {},
            "outputs": [],
            "source": [
                "fig, axes = plot_linked_pushed_random_paired_images(\n",
                "    XY_test_sampler,\n",
                "    Ts,\n",
                "    plot_n_samples=10,\n",
                "    gray=GRAY_PLOTS,\n",
                "    plot_trajectory=False,\n",
                "    savefig=True,\n",
                "    save_path=\"./figs/Paired/DNOT/random\",\n",
                ")"
            ]
        },
        {
            "cell_type": "markdown",
            "metadata": {},
            "source": [
                "## DENOT"
            ]
        },
        {
            "cell_type": "code",
            "execution_count": null,
            "metadata": {},
            "outputs": [],
            "source": [
                "# the step number adding noise in diffusion process\n",
                "DIFFUSION_STEPS = 1000\n",
                "PIVOTAL_LIST = [20, 50, 100]  # [0, 100] for testing,  [0, 20, 50, 100]\n",
                "# training algorithm settings\n",
                "STRATEGY = \"Fix\"  # 'Fix' or 'Adapt'\n",
                "# SDE network settings\n",
                "EPSILON = 0  # [0 , 1, 10]\n",
                "IMAGE_INPUT = True\n",
                "PREDICT_SHIFT = True\n",
                "N_STEPS = 5  # num of shifts time\n",
                "UNET_BASE_FACTOR = 128\n",
                "TIME_DIM = 128\n",
                "USE_POSITIONAL_ENCODING = True\n",
                "ONE_STEP_INIT_ITERS = 0\n",
                "USE_GRADIENT_CHECKPOINT = False\n",
                "N_LAST_STEPS_WITHOUT_NOISE = 1"
            ]
        },
        {
            "cell_type": "code",
            "execution_count": null,
            "metadata": {},
            "outputs": [],
            "source": [
                "EXP_NAME = f\"DENOT_paired_{DATASET}_{STRATEGY}_{SEED}\"\n",
                "LOAD_PATH = f\"../saved_models/{EXP_NAME}/\"\n",
                "\n",
                "if not os.path.exists(LOAD_PATH):\n",
                "    raise FileNotFoundError(\"no such file or directory...\")"
            ]
        },
        {
            "cell_type": "markdown",
            "metadata": {},
            "source": [
                "### init model"
            ]
        },
        {
            "cell_type": "code",
            "execution_count": null,
            "metadata": {},
            "outputs": [],
            "source": [
                "SDEs = []\n",
                "\n",
                "for i in range(len(PIVOTAL_LIST) * 2):\n",
                "    T = CUNet(\n",
                "        DATASET1_CHANNELS, DATASET2_CHANNELS, TIME_DIM, base_factor=UNET_BASE_FACTOR\n",
                "    ).cuda()\n",
                "\n",
                "    T = SDE(\n",
                "        shift_model=T,\n",
                "        epsilon=EPSILON,\n",
                "        n_steps=N_STEPS,\n",
                "        time_dim=TIME_DIM,\n",
                "        n_last_steps_without_noise=N_LAST_STEPS_WITHOUT_NOISE,\n",
                "        use_positional_encoding=USE_POSITIONAL_ENCODING,\n",
                "        use_gradient_checkpoint=USE_GRADIENT_CHECKPOINT,\n",
                "        predict_shift=PREDICT_SHIFT,\n",
                "        image_input=IMAGE_INPUT,\n",
                "    ).cuda()\n",
                "    SDEs.append(T)"
            ]
        },
        {
            "cell_type": "markdown",
            "metadata": {},
            "source": [
                "### load weights"
            ]
        },
        {
            "cell_type": "code",
            "execution_count": null,
            "metadata": {},
            "outputs": [],
            "source": [
                "print(\"Loading weights\")\n",
                "\n",
                "CKPT_DIR = os.path.join(LOAD_PATH, f\"iter{10000}/\")  # user setting\n",
                "for i, T in enumerate(SDEs):\n",
                "    T.load_state_dict(torch.load(os.path.join(CKPT_DIR, f\"T{i}_{SEED}.pt\")))\n",
                "    print(f\"{CKPT_DIR}/T{i}_{SEED}.pt, loaded\")"
            ]
        },
        {
            "cell_type": "markdown",
            "metadata": {},
            "source": [
                "### plot"
            ]
        },
        {
            "cell_type": "code",
            "execution_count": null,
            "metadata": {},
            "outputs": [],
            "source": [
                "fig, axes = plot_linked_sde_pushed_images(\n",
                "    X_test_fixed,\n",
                "    Y_test_fixed,\n",
                "    SDEs,\n",
                "    gray=GRAY_PLOTS,\n",
                "    plot_trajectory=False,\n",
                "    savefig=True,\n",
                "    save_path=\"./figs/Paired/DENOT/fix\",\n",
                ")"
            ]
        },
        {
            "cell_type": "code",
            "execution_count": null,
            "metadata": {},
            "outputs": [],
            "source": [
                "fig, axes = plot_linked_sde_pushed_random_paired_images(\n",
                "    XY_test_sampler,\n",
                "    SDEs,\n",
                "    plot_n_samples=10,\n",
                "    gray=GRAY_PLOTS,\n",
                "    plot_trajectory=False,\n",
                "    savefig=True,\n",
                "    save_path=\"./figs/Paired/DENOT/random\",\n",
                ")"
            ]
        }
    ],
    "metadata": {
        "kernelspec": {
            "display_name": "Python 3 (ipykernel)",
            "language": "python",
            "name": "python3"
        },
        "language_info": {
            "codemirror_mode": {
                "name": "ipython",
                "version": 3
            },
            "file_extension": ".py",
            "mimetype": "text/x-python",
            "name": "python",
            "nbconvert_exporter": "python",
            "pygments_lexer": "ipython3",
            "version": "3.9.19"
        }
    },
    "nbformat": 4,
    "nbformat_minor": 4
}
