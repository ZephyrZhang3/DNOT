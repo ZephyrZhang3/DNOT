{
 "cells": [
  {
   "cell_type": "markdown",
   "metadata": {},
   "source": [
    "# Import"
   ]
  },
  {
   "cell_type": "code",
   "execution_count": null,
   "metadata": {},
   "outputs": [],
   "source": [
    "import os\n",
    "import sys\n",
    "import warnings\n",
    "\n",
    "import torch\n",
    "from PIL import PngImagePlugin\n",
    "\n",
    "\n",
    "sys.path.append(\"..\")\n",
    "from src.cunet import CUNet\n",
    "from src.enot import SDE\n",
    "from src.unet import UNet\n",
    "from src.u2net import U2NET\n",
    "\n",
    "from src.tools import (\n",
    "    set_random_seed,\n",
    ")\n",
    "from src.plotters import (\n",
    "    plot_pushed_images,\n",
    "    plot_pushed_random_paired_images,\n",
    "    plot_linked_pushed_images,\n",
    "    plot_sde_pushed_images,\n",
    "    plot_sde_pushed_random_paired_images,\n",
    "    plot_linked_sde_pushed_images,\n",
    ")\n",
    "from src.samplers import get_paired_sampler\n",
    "\n",
    "\n",
    "LARGE_ENOUGH_NUMBER = 100\n",
    "PngImagePlugin.MAX_TEXT_CHUNK = LARGE_ENOUGH_NUMBER * (1024**2)\n",
    "\n",
    "warnings.filterwarnings(\"ignore\")\n",
    "\n",
    "%matplotlib inline "
   ]
  },
  {
   "cell_type": "markdown",
   "metadata": {},
   "source": [
    "# General Config"
   ]
  },
  {
   "cell_type": "code",
   "execution_count": null,
   "metadata": {},
   "outputs": [],
   "source": [
    "IMG_SIZE = 256\n",
    "DATASET1_CHANNELS = 3\n",
    "DATASET2_CHANNELS = 3\n",
    "\n",
    "# GPU choosing\n",
    "DEVICE_ID = 0\n",
    "assert torch.cuda.is_available()\n",
    "torch.cuda.set_device(f\"cuda:{DEVICE_ID}\")\n",
    "\n",
    "BATCH_SIZE = 8\n",
    "\n",
    "SUBSET_SIZE = 2\n",
    "SUBSET_CLASS = 3\n",
    "\n",
    "# plot settings\n",
    "GRAY_PLOTS = True\n",
    "\n",
    "FID_EPOCHS = 1"
   ]
  },
  {
   "cell_type": "markdown",
   "metadata": {},
   "source": [
    "# Initialize samplers"
   ]
  },
  {
   "cell_type": "markdown",
   "metadata": {},
   "source": [
    "## A -> B sampler"
   ]
  },
  {
   "cell_type": "code",
   "execution_count": null,
   "metadata": {},
   "outputs": [],
   "source": [
    "# dataset choosing\n",
    "# face -> comic\n",
    "# AB_DATASET, AB_DATASET_PATH, AB_MAP_NAME, REVERSE = 'comic_faces_v1', '../datasets/face2comics_v1.0.0_by_Sxela', \"face2comic\", False\n",
    "# mask -> face\n",
    "# AB_DATASET, AB_DATASET_PATH, AB_MAP_NAME, REVERSE = \"celeba_mask\", \"../datasets/CelebAMask-HQ\", \"colored_mask2face\", False\n",
    "# sketch -> face\n",
    "AB_DATASET, AB_DATASET_PATH, AB_MAP_NAME, REVERSE = (\n",
    "    \"FS2K\",\n",
    "    \"../datasets/FS2K/\",\n",
    "    \"sketch2photo\",\n",
    "    False,\n",
    ")"
   ]
  },
  {
   "cell_type": "code",
   "execution_count": null,
   "metadata": {},
   "outputs": [],
   "source": [
    "_, AB_test_sampler = get_paired_sampler(\n",
    "    AB_DATASET,\n",
    "    AB_DATASET_PATH,\n",
    "    img_size=IMG_SIZE,\n",
    "    batch_size=BATCH_SIZE,\n",
    "    reverse=REVERSE,\n",
    ")"
   ]
  },
  {
   "cell_type": "code",
   "execution_count": null,
   "metadata": {},
   "outputs": [],
   "source": [
    "A_test_fixed, B_test_fixed = AB_test_sampler.sample(10)"
   ]
  },
  {
   "cell_type": "markdown",
   "metadata": {},
   "source": [
    "## C -> D sampler"
   ]
  },
  {
   "cell_type": "code",
   "execution_count": null,
   "metadata": {},
   "outputs": [],
   "source": [
    "# dataset choosing\n",
    "# face -> comic\n",
    "CD_DATASET, CD_DATASET_PATH, CD_MAP_NAME, REVERSE = (\n",
    "    \"comic_faces_v1\",\n",
    "    \"../datasets/face2comics_v1.0.0_by_Sxela\",\n",
    "    \"face2comic\",\n",
    "    False,\n",
    ")\n",
    "# colored mask -> face\n",
    "# DATASET, DATASET_PATH, CD_MAP_NAME, REVERSE = \"celeba_mask\", \"../datasets/CelebAMask-HQ\", \"colored_mask2face\", False\n",
    "# sketch -> photo\n",
    "# DATASET, DATASET_PATH, CD_MAP_NAME, REVERSE = (\n",
    "#     \"FS2K\",\n",
    "#     \"../datasets/FS2K/\",\n",
    "#     \"sketch2photo\",\n",
    "#     False,\n",
    "# )"
   ]
  },
  {
   "cell_type": "code",
   "execution_count": null,
   "metadata": {},
   "outputs": [],
   "source": [
    "_, CD_test_sampler = get_paired_sampler(\n",
    "    CD_DATASET,\n",
    "    CD_DATASET_PATH,\n",
    "    img_size=IMG_SIZE,\n",
    "    batch_size=BATCH_SIZE,\n",
    "    reverse=REVERSE,\n",
    ")"
   ]
  },
  {
   "cell_type": "code",
   "execution_count": null,
   "metadata": {},
   "outputs": [],
   "source": [
    "C_test_fixed, D_test_fixed = CD_test_sampler.sample(10)"
   ]
  },
  {
   "cell_type": "markdown",
   "metadata": {},
   "source": [
    "# GNOT"
   ]
  },
  {
   "cell_type": "markdown",
   "metadata": {},
   "source": [
    "## A -> B"
   ]
  },
  {
   "cell_type": "markdown",
   "metadata": {},
   "source": [
    "### init model and load weights"
   ]
  },
  {
   "cell_type": "code",
   "execution_count": null,
   "metadata": {},
   "outputs": [],
   "source": [
    "SEED = 0x3060\n",
    "set_random_seed(SEED)\n",
    "# training algorithm settings\n",
    "BATCH_SIZE = 32\n",
    "\n",
    "T_TYPE = \"U2Net\"  # 'UNet' # or  ('ResNet_pix2pix' - not implemented)"
   ]
  },
  {
   "cell_type": "code",
   "execution_count": null,
   "metadata": {},
   "outputs": [],
   "source": [
    "EXP_NAME = f\"GNOT_paired_{AB_DATASET}_{SEED}\"\n",
    "LOAD_PATH = f\"../saved_models/{EXP_NAME}/\"\n",
    "\n",
    "if not os.path.exists(LOAD_PATH):\n",
    "    raise FileNotFoundError(\"no such file or directory...\")"
   ]
  },
  {
   "cell_type": "code",
   "execution_count": null,
   "metadata": {},
   "outputs": [],
   "source": [
    "if T_TYPE == \"UNet\":\n",
    "    AB_T = UNet(DATASET1_CHANNELS, DATASET2_CHANNELS, base_factor=48).cuda()\n",
    "elif T_TYPE == \"U2Net\":\n",
    "    AB_T = U2NET(in_ch=DATASET1_CHANNELS, out_ch=DATASET2_CHANNELS).cuda()\n",
    "else:\n",
    "    raise NotImplementedError(\"Unknown T_TYPE: {}\".format(T_TYPE))"
   ]
  },
  {
   "cell_type": "code",
   "execution_count": null,
   "metadata": {},
   "outputs": [],
   "source": [
    "print(\"Loading weights\")\n",
    "\n",
    "w_path = os.path.join(LOAD_PATH, f\"T_{SEED}_30000.pt\")  # user setting\n",
    "\n",
    "AB_T.load_state_dict(torch.load(w_path))\n",
    "\n",
    "print(f\"{w_path}, loaded\")"
   ]
  },
  {
   "cell_type": "markdown",
   "metadata": {},
   "source": [
    "### plot A -> B"
   ]
  },
  {
   "cell_type": "code",
   "execution_count": null,
   "metadata": {},
   "outputs": [],
   "source": [
    "fig, axes = plot_pushed_images(\n",
    "    A_test_fixed,\n",
    "    B_test_fixed,\n",
    "    AB_T,\n",
    "    gray=GRAY_PLOTS,\n",
    "    savefig=True,\n",
    "    save_path=f\"./figs/Exchange/GNOT/{AB_MAP_NAME}/fix\",\n",
    ")"
   ]
  },
  {
   "cell_type": "code",
   "execution_count": null,
   "metadata": {},
   "outputs": [],
   "source": [
    "fig, axes = plot_pushed_random_paired_images(\n",
    "    AB_test_sampler,\n",
    "    AB_T,\n",
    "    plot_n_samples=10,\n",
    "    gray=GRAY_PLOTS,\n",
    "    savefig=True,\n",
    "    save_path=f\"./figs/Exchange/GNOT/{AB_MAP_NAME}/random\",\n",
    ")"
   ]
  },
  {
   "cell_type": "markdown",
   "metadata": {},
   "source": [
    "## C -> D"
   ]
  },
  {
   "cell_type": "markdown",
   "metadata": {},
   "source": [
    "### init model and load weights"
   ]
  },
  {
   "cell_type": "code",
   "execution_count": null,
   "metadata": {},
   "outputs": [],
   "source": [
    "SEED = 0x3060\n",
    "set_random_seed(SEED)\n",
    "# training algorithm settings\n",
    "BATCH_SIZE = 32\n",
    "\n",
    "T_TYPE = \"U2Net\"  # 'UNet' # or  ('ResNet_pix2pix' - not implemented)"
   ]
  },
  {
   "cell_type": "code",
   "execution_count": null,
   "metadata": {},
   "outputs": [],
   "source": [
    "EXP_NAME = f\"GNOT_paired_{CD_DATASET}_{SEED}\"\n",
    "LOAD_PATH = f\"../saved_models/{EXP_NAME}/\"\n",
    "\n",
    "if not os.path.exists(LOAD_PATH):\n",
    "    raise FileNotFoundError(\"no such file or directory...\")"
   ]
  },
  {
   "cell_type": "code",
   "execution_count": null,
   "metadata": {},
   "outputs": [],
   "source": [
    "if T_TYPE == \"UNet\":\n",
    "    CD_T = UNet(DATASET1_CHANNELS, DATASET2_CHANNELS, base_factor=48).cuda()\n",
    "elif T_TYPE == \"U2Net\":\n",
    "    CD_T = U2NET(in_ch=DATASET1_CHANNELS, out_ch=DATASET2_CHANNELS).cuda()\n",
    "else:\n",
    "    raise NotImplementedError(\"Unknown T_TYPE: {}\".format(T_TYPE))"
   ]
  },
  {
   "cell_type": "code",
   "execution_count": null,
   "metadata": {},
   "outputs": [],
   "source": [
    "print(\"Loading weights\")\n",
    "\n",
    "w_path = os.path.join(LOAD_PATH, f\"T_{SEED}_30000.pt\")  # user setting\n",
    "\n",
    "CD_T.load_state_dict(torch.load(w_path))\n",
    "\n",
    "print(f\"{w_path}, loaded\")"
   ]
  },
  {
   "cell_type": "markdown",
   "metadata": {},
   "source": [
    "### plot C -> D"
   ]
  },
  {
   "cell_type": "code",
   "execution_count": null,
   "metadata": {},
   "outputs": [],
   "source": [
    "fig, axes = plot_pushed_images(\n",
    "    A_test_fixed,\n",
    "    B_test_fixed,\n",
    "    CD_T,\n",
    "    gray=GRAY_PLOTS,\n",
    "    savefig=True,\n",
    "    save_path=f\"./figs/Exchange/GNOT/{CD_MAP_NAME}/fix\",\n",
    ")"
   ]
  },
  {
   "cell_type": "code",
   "execution_count": null,
   "metadata": {},
   "outputs": [],
   "source": [
    "fig, axes = plot_pushed_random_paired_images(\n",
    "    AB_test_sampler,\n",
    "    CD_T,\n",
    "    plot_n_samples=10,\n",
    "    gray=GRAY_PLOTS,\n",
    "    savefig=True,\n",
    "    save_path=f\"./figs/Exchange/GNOT/{CD_MAP_NAME}/random\",\n",
    ")"
   ]
  },
  {
   "cell_type": "markdown",
   "metadata": {},
   "source": [
    "## A -> D"
   ]
  },
  {
   "cell_type": "code",
   "execution_count": null,
   "metadata": {},
   "outputs": [],
   "source": [
    "AD_MAP_NAME = AB_MAP_NAME.split(\"2\")[0] + CD_MAP_NAME.split(\"2\")[1]"
   ]
  },
  {
   "cell_type": "markdown",
   "metadata": {},
   "source": [
    "### init model"
   ]
  },
  {
   "cell_type": "code",
   "execution_count": null,
   "metadata": {},
   "outputs": [],
   "source": [
    "AD_Ts = [AB_T, CD_T]"
   ]
  },
  {
   "cell_type": "markdown",
   "metadata": {},
   "source": [
    "### plot A -> D"
   ]
  },
  {
   "cell_type": "code",
   "execution_count": null,
   "metadata": {},
   "outputs": [],
   "source": [
    "# actually the Y sample is useless\n",
    "fig, axes = plot_linked_pushed_images(\n",
    "    A_test_fixed,\n",
    "    D_test_fixed,\n",
    "    AD_Ts,\n",
    "    gray=GRAY_PLOTS,\n",
    "    plot_trajectory=False,\n",
    "    savefig=True,\n",
    "    save_path=f\"./figs/Exchange/GNOT/{AD_MAP_NAME}/fix\",\n",
    ")"
   ]
  },
  {
   "cell_type": "code",
   "execution_count": null,
   "metadata": {},
   "outputs": [],
   "source": [
    "A_test_random, _ = AB_test_sampler.sample(10)\n",
    "_, D_test_random = CD_test_sampler.sample(10)\n",
    "\n",
    "# actually the Y sample is useless\n",
    "fig, axes = plot_linked_pushed_images(\n",
    "    A_test_random,\n",
    "    D_test_random,\n",
    "    AD_Ts,\n",
    "    gray=GRAY_PLOTS,\n",
    "    plot_trajectory=False,\n",
    "    savefig=True,\n",
    "    save_path=f\"./figs/Exchange/GNOT/{AD_MAP_NAME}/random\",\n",
    ")"
   ]
  },
  {
   "cell_type": "markdown",
   "metadata": {},
   "source": [
    "# ENOT"
   ]
  },
  {
   "cell_type": "markdown",
   "metadata": {},
   "source": [
    "## A -> B"
   ]
  },
  {
   "cell_type": "markdown",
   "metadata": {},
   "source": [
    "### init model and load weights"
   ]
  },
  {
   "cell_type": "code",
   "execution_count": null,
   "metadata": {},
   "outputs": [],
   "source": [
    "SEED = 0x3060\n",
    "set_random_seed(SEED)\n",
    "\n",
    "# SDE network settings\n",
    "EPSILON = 0  # [0 , 1, 10]\n",
    "IMAGE_INPUT = True\n",
    "PREDICT_SHIFT = True\n",
    "N_STEPS = 10\n",
    "UNET_BASE_FACTOR = 128\n",
    "TIME_DIM = 128\n",
    "USE_POSITIONAL_ENCODING = True\n",
    "ONE_STEP_INIT_ITERS = 0\n",
    "USE_GRADIENT_CHECKPOINT = False\n",
    "N_LAST_STEPS_WITHOUT_NOISE = 1"
   ]
  },
  {
   "cell_type": "code",
   "execution_count": null,
   "metadata": {},
   "outputs": [],
   "source": [
    "EXP_NAME = f\"ENOT_paired_{AB_DATASET}_{SEED}\"\n",
    "LOAD_PATH = f\"../saved_models/{EXP_NAME}/\"\n",
    "\n",
    "if not os.path.exists(LOAD_PATH):\n",
    "    raise FileNotFoundError(\"no such file or directory...\")"
   ]
  },
  {
   "cell_type": "code",
   "execution_count": null,
   "metadata": {},
   "outputs": [],
   "source": [
    "T = CUNet(\n",
    "    DATASET1_CHANNELS, DATASET2_CHANNELS, TIME_DIM, base_factor=UNET_BASE_FACTOR\n",
    ").cuda()\n",
    "\n",
    "\n",
    "AB_SDE = SDE(\n",
    "    shift_model=T,\n",
    "    epsilon=EPSILON,\n",
    "    n_steps=N_STEPS,\n",
    "    time_dim=TIME_DIM,\n",
    "    n_last_steps_without_noise=N_LAST_STEPS_WITHOUT_NOISE,\n",
    "    use_positional_encoding=USE_POSITIONAL_ENCODING,\n",
    "    use_gradient_checkpoint=USE_GRADIENT_CHECKPOINT,\n",
    "    predict_shift=PREDICT_SHIFT,\n",
    "    image_input=IMAGE_INPUT,\n",
    ").cuda()"
   ]
  },
  {
   "cell_type": "code",
   "execution_count": null,
   "metadata": {},
   "outputs": [],
   "source": [
    "print(\"Loading weights\")\n",
    "\n",
    "w_path = os.path.join(LOAD_PATH, f\"iter{5000}/T_{SEED}.pt\")  # user setting\n",
    "\n",
    "AB_SDE.load_state_dict(torch.load(w_path))\n",
    "\n",
    "print(f\"{w_path}, loaded\")"
   ]
  },
  {
   "cell_type": "markdown",
   "metadata": {},
   "source": [
    "### plot A -> B"
   ]
  },
  {
   "cell_type": "code",
   "execution_count": null,
   "metadata": {},
   "outputs": [],
   "source": [
    "fig, axes = plot_sde_pushed_images(\n",
    "    A_test_fixed,\n",
    "    B_test_fixed,\n",
    "    AB_SDE,\n",
    "    gray=GRAY_PLOTS,\n",
    "    plot_trajectory=False,\n",
    "    savefig=True,\n",
    "    save_path=f\"./figs/Exchange/ENOT/{AB_MAP_NAME}/fix\",\n",
    ")"
   ]
  },
  {
   "cell_type": "code",
   "execution_count": null,
   "metadata": {},
   "outputs": [],
   "source": [
    "fig, axes = plot_sde_pushed_random_paired_images(\n",
    "    AB_test_sampler,\n",
    "    AB_SDE,\n",
    "    plot_n_samples=10,\n",
    "    gray=GRAY_PLOTS,\n",
    "    plot_trajectory=False,\n",
    "    savefig=True,\n",
    "    save_path=f\"./figs/Exchange/ENOT/{AB_MAP_NAME}/random\",\n",
    ")"
   ]
  },
  {
   "cell_type": "markdown",
   "metadata": {},
   "source": [
    "## C -> D"
   ]
  },
  {
   "cell_type": "markdown",
   "metadata": {},
   "source": [
    "### init model and load weights"
   ]
  },
  {
   "cell_type": "code",
   "execution_count": null,
   "metadata": {},
   "outputs": [],
   "source": [
    "SEED = 0x3060\n",
    "set_random_seed(SEED)\n",
    "\n",
    "# SDE network settings\n",
    "EPSILON = 0  # [0 , 1, 10]\n",
    "IMAGE_INPUT = True\n",
    "PREDICT_SHIFT = True\n",
    "N_STEPS = 5  # num of shifts time\n",
    "UNET_BASE_FACTOR = 128\n",
    "TIME_DIM = 128\n",
    "USE_POSITIONAL_ENCODING = True\n",
    "ONE_STEP_INIT_ITERS = 0\n",
    "USE_GRADIENT_CHECKPOINT = False\n",
    "N_LAST_STEPS_WITHOUT_NOISE = 1"
   ]
  },
  {
   "cell_type": "code",
   "execution_count": null,
   "metadata": {},
   "outputs": [],
   "source": [
    "EXP_NAME = f\"ENOT_paired_{CD_DATASET}_{SEED}\"\n",
    "LOAD_PATH = f\"../saved_models/{EXP_NAME}/\"\n",
    "\n",
    "if not os.path.exists(LOAD_PATH):\n",
    "    raise FileNotFoundError(\"no such file or directory...\")"
   ]
  },
  {
   "cell_type": "code",
   "execution_count": null,
   "metadata": {},
   "outputs": [],
   "source": [
    "T = CUNet(\n",
    "    DATASET1_CHANNELS, DATASET2_CHANNELS, TIME_DIM, base_factor=UNET_BASE_FACTOR\n",
    ").cuda()\n",
    "\n",
    "\n",
    "CD_SDE = SDE(\n",
    "    shift_model=T,\n",
    "    epsilon=EPSILON,\n",
    "    n_steps=N_STEPS,\n",
    "    time_dim=TIME_DIM,\n",
    "    n_last_steps_without_noise=N_LAST_STEPS_WITHOUT_NOISE,\n",
    "    use_positional_encoding=USE_POSITIONAL_ENCODING,\n",
    "    use_gradient_checkpoint=USE_GRADIENT_CHECKPOINT,\n",
    "    predict_shift=PREDICT_SHIFT,\n",
    "    image_input=IMAGE_INPUT,\n",
    ").cuda()"
   ]
  },
  {
   "cell_type": "code",
   "execution_count": null,
   "metadata": {},
   "outputs": [],
   "source": [
    "print(\"Loading weights\")\n",
    "\n",
    "w_path = os.path.join(LOAD_PATH, f\"iter{5000}/T_{SEED}.pt\")  # user setting\n",
    "\n",
    "CD_SDE.load_state_dict(torch.load(w_path))\n",
    "\n",
    "print(f\"{w_path}, loaded\")"
   ]
  },
  {
   "cell_type": "markdown",
   "metadata": {},
   "source": [
    "### plot C -> D"
   ]
  },
  {
   "cell_type": "code",
   "execution_count": null,
   "metadata": {},
   "outputs": [],
   "source": [
    "fig, axes = plot_sde_pushed_images(\n",
    "    A_test_fixed,\n",
    "    B_test_fixed,\n",
    "    CD_SDE,\n",
    "    gray=GRAY_PLOTS,\n",
    "    plot_trajectory=False,\n",
    "    savefig=True,\n",
    "    save_path=f\"./figs/Exchange/ENOT/{CD_MAP_NAME}/fix\",\n",
    ")"
   ]
  },
  {
   "cell_type": "code",
   "execution_count": null,
   "metadata": {},
   "outputs": [],
   "source": [
    "fig, axes = plot_sde_pushed_random_paired_images(\n",
    "    AB_test_sampler,\n",
    "    CD_SDE,\n",
    "    plot_n_samples=10,\n",
    "    gray=GRAY_PLOTS,\n",
    "    plot_trajectory=False,\n",
    "    savefig=True,\n",
    "    save_path=f\"./figs/Exchange/ENOT/{CD_MAP_NAME}/random\",\n",
    ")"
   ]
  },
  {
   "cell_type": "markdown",
   "metadata": {},
   "source": [
    "## A -> D"
   ]
  },
  {
   "cell_type": "code",
   "execution_count": null,
   "metadata": {},
   "outputs": [],
   "source": [
    "AD_MAP_NAME = AB_MAP_NAME.split(\"2\")[0] + CD_MAP_NAME.split(\"2\")[1]"
   ]
  },
  {
   "cell_type": "markdown",
   "metadata": {},
   "source": [
    "### init model"
   ]
  },
  {
   "cell_type": "code",
   "execution_count": null,
   "metadata": {},
   "outputs": [],
   "source": [
    "AD_SDEs = [AB_SDE, CD_SDE]"
   ]
  },
  {
   "cell_type": "markdown",
   "metadata": {},
   "source": [
    "### plot A -> D"
   ]
  },
  {
   "cell_type": "code",
   "execution_count": null,
   "metadata": {},
   "outputs": [],
   "source": [
    "# actually the Y sample is useless\n",
    "fig, axes = plot_linked_sde_pushed_images(\n",
    "    A_test_fixed,\n",
    "    D_test_fixed,\n",
    "    AD_SDEs,\n",
    "    gray=GRAY_PLOTS,\n",
    "    plot_trajectory=False,\n",
    "    savefig=True,\n",
    "    save_path=f\"./figs/Exchange/ENOT/{AD_MAP_NAME}/fix\",\n",
    ")"
   ]
  },
  {
   "cell_type": "code",
   "execution_count": null,
   "metadata": {},
   "outputs": [],
   "source": [
    "A_test_random, _ = AB_test_sampler.sample(10)\n",
    "_, D_test_random = CD_test_sampler.sample(10)\n",
    "\n",
    "# actually the Y sample is useless\n",
    "fig, axes = plot_linked_sde_pushed_images(\n",
    "    A_test_random,\n",
    "    D_test_random,\n",
    "    AD_SDEs,\n",
    "    gray=GRAY_PLOTS,\n",
    "    plot_trajectory=False,\n",
    "    savefig=True,\n",
    "    save_path=f\"./figs/Exchange/ENOT/{AD_MAP_NAME}/random\",\n",
    ")"
   ]
  }
 ],
 "metadata": {
  "kernelspec": {
   "display_name": ".venv",
   "language": "python",
   "name": "python3"
  },
  "language_info": {
   "name": "python",
   "version": "3.9.19"
  }
 },
 "nbformat": 4,
 "nbformat_minor": 2
}
