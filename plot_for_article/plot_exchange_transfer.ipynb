{
    "cells": [
        {
            "cell_type": "markdown",
            "metadata": {},
            "source": [
                "# Import"
            ]
        },
        {
            "cell_type": "code",
            "execution_count": null,
            "metadata": {},
            "outputs": [],
            "source": [
                "import os\n",
                "import sys\n",
                "import warnings\n",
                "\n",
                "import torch\n",
                "from PIL import PngImagePlugin\n",
                "\n",
                "\n",
                "sys.path.append(\"..\")\n",
                "from src.cunet import CUNet\n",
                "from src.enot import SDE\n",
                "from src.unet import UNet\n",
                "from src.tools import (\n",
                "    set_random_seed,\n",
                ")\n",
                "from src.plotters import (\n",
                "    plot_linked_pushed_images,\n",
                "    plot_linked_pushed_random_paired_images,\n",
                "    plot_linked_sde_pushed_images,\n",
                "    plot_linked_sde_pushed_random_paired_images,\n",
                ")\n",
                "from src.samplers import get_paired_sampler\n",
                "\n",
                "\n",
                "LARGE_ENOUGH_NUMBER = 100\n",
                "PngImagePlugin.MAX_TEXT_CHUNK = LARGE_ENOUGH_NUMBER * (1024**2)\n",
                "\n",
                "warnings.filterwarnings(\"ignore\")\n",
                "\n",
                "%matplotlib inline "
            ]
        },
        {
            "cell_type": "markdown",
            "metadata": {},
            "source": [
                "# General Config"
            ]
        },
        {
            "cell_type": "code",
            "execution_count": null,
            "metadata": {},
            "outputs": [],
            "source": [
                "IMG_SIZE = 256\n",
                "DATASET1_CHANNELS = 3\n",
                "DATASET2_CHANNELS = 3\n",
                "\n",
                "# GPU choosing\n",
                "DEVICE_ID = 0\n",
                "assert torch.cuda.is_available()\n",
                "torch.cuda.set_device(f\"cuda:{DEVICE_ID}\")\n",
                "\n",
                "# training algorithm settings\n",
                "BATCH_SIZE = 8\n",
                "\n",
                "SUBSET_SIZE = 2\n",
                "SUBSET_CLASS = 3\n",
                "\n",
                "# plot settings\n",
                "GRAY_PLOTS = True\n",
                "\n",
                "FID_EPOCHS = 1"
            ]
        },
        {
            "cell_type": "markdown",
            "metadata": {},
            "source": [
                "# Initialize samplers"
            ]
        },
        {
            "cell_type": "markdown",
            "metadata": {},
            "source": [
                "## A -> B sampler"
            ]
        },
        {
            "cell_type": "code",
            "execution_count": null,
            "metadata": {},
            "outputs": [],
            "source": [
                "# dataset choosing\n",
                "# face -> comic\n",
                "# DATASET, DATASET_PATH, AB_MAP_NAME, REVERSE = 'comic_faces_v1', '../datasets/face2comics_v1.0.0_by_Sxela', \"face2comic\", False\n",
                "# mask -> face\n",
                "# DATASET, DATASET_PATH, AB_MAP_NAME, REVERSE = \"celeba_mask\", \"../datasets/CelebAMask-HQ\", \"colored_mask2face\", False\n",
                "# sketch -> face\n",
                "DATASET, DATASET_PATH, AB_MAP_NAME, REVERSE = (\n",
                "    \"FS2K\",\n",
                "    \"../datasets/FS2K/\",\n",
                "    \"sketch2photo\",\n",
                "    False,\n",
                ")"
            ]
        },
        {
            "cell_type": "code",
            "execution_count": null,
            "metadata": {},
            "outputs": [],
            "source": [
                "_, AB_test_sampler = get_paired_sampler(\n",
                "    DATASET, DATASET_PATH, img_size=IMG_SIZE, batch_size=BATCH_SIZE, reverse=REVERSE\n",
                ")"
            ]
        },
        {
            "cell_type": "code",
            "execution_count": null,
            "metadata": {},
            "outputs": [],
            "source": [
                "A_test_fixed, B_test_fixed = AB_test_sampler.sample(10)"
            ]
        },
        {
            "cell_type": "markdown",
            "metadata": {},
            "source": [
                "## C -> D sampler"
            ]
        },
        {
            "cell_type": "code",
            "execution_count": null,
            "metadata": {},
            "outputs": [],
            "source": [
                "# dataset choosing\n",
                "# face2comic\n",
                "DATASET, DATASET_PATH, CD_MAP_NAME, REVERSE = (\n",
                "    \"comic_faces_v1\",\n",
                "    \"../datasets/face2comics_v1.0.0_by_Sxela\",\n",
                "    \"face2comic\",\n",
                "    False,\n",
                ")\n",
                "# colored mask -> face\n",
                "# DATASET, DATASET_PATH, CD_MAP_NAME, REVERSE = \"celeba_mask\", \"../datasets/CelebAMask-HQ\", \"colored_mask2face\", False\n",
                "# sketch -> photo\n",
                "# DATASET, DATASET_PATH, CD_MAP_NAME, REVERSE = (\n",
                "#     \"FS2K\",\n",
                "#     \"../datasets/FS2K/\",\n",
                "#     \"sketch2photo\",\n",
                "#     False,\n",
                "# )"
            ]
        },
        {
            "cell_type": "code",
            "execution_count": null,
            "metadata": {},
            "outputs": [],
            "source": [
                "_, CD_test_sampler = get_paired_sampler(\n",
                "    DATASET, DATASET_PATH, img_size=IMG_SIZE, batch_size=BATCH_SIZE, reverse=REVERSE\n",
                ")"
            ]
        },
        {
            "cell_type": "code",
            "execution_count": null,
            "metadata": {},
            "outputs": [],
            "source": [
                "C_test_fixed, D_test_fixed = CD_test_sampler.sample(10)"
            ]
        },
        {
            "cell_type": "markdown",
            "metadata": {},
            "source": [
                "# DNOT"
            ]
        },
        {
            "cell_type": "markdown",
            "metadata": {},
            "source": [
                "## A -> B"
            ]
        },
        {
            "cell_type": "markdown",
            "metadata": {},
            "source": [
                "### init model and load weights"
            ]
        },
        {
            "cell_type": "code",
            "execution_count": null,
            "metadata": {},
            "outputs": [],
            "source": [
                "SEED = 0x3060\n",
                "set_random_seed(SEED)\n",
                "# the step number adding noise in diffusion process\n",
                "DIFFUSION_STEPS = 1000\n",
                "PIVOTAL_LIST = [20, 50, 100]  # [0, 100] for testing,  [0, 20, 50, 100]\n",
                "# training algorithm settings\n",
                "STRATEGY = \"Adapt\"  # 'Fix' or 'Adapt'\n",
                "# model settings\n",
                "UNET_BASE_FACTOR = 48"
            ]
        },
        {
            "cell_type": "code",
            "execution_count": null,
            "metadata": {},
            "outputs": [],
            "source": [
                "EXP_NAME = f\"DNOT_paired_{DATASET}_{STRATEGY}_{SEED}\"\n",
                "LOAD_PATH = f\"../saved_models/{EXP_NAME}/\"\n",
                "\n",
                "if not os.path.exists(LOAD_PATH):\n",
                "    raise FileNotFoundError(\"no such file or directory...\")"
            ]
        },
        {
            "cell_type": "code",
            "execution_count": null,
            "metadata": {},
            "outputs": [],
            "source": [
                "AB_Ts = []\n",
                "\n",
                "for i in range(len(PIVOTAL_LIST) * 2):\n",
                "    T = UNet(DATASET1_CHANNELS, DATASET2_CHANNELS, base_factor=UNET_BASE_FACTOR).cuda()\n",
                "    AB_Ts.append(T)"
            ]
        },
        {
            "cell_type": "code",
            "execution_count": null,
            "metadata": {},
            "outputs": [],
            "source": [
                "print(\"Loading weights\")\n",
                "\n",
                "CKPT_DIR = os.path.join(LOAD_PATH, f\"iter{2000}\")  # user setting\n",
                "for i, T in enumerate(AB_Ts):\n",
                "    w_path = os.path.join(CKPT_DIR, f\"T{i}_{SEED}.pt\")\n",
                "    T.load_state_dict(torch.load(w_path))\n",
                "    print(f\"{w_path}, loaded\")"
            ]
        },
        {
            "cell_type": "markdown",
            "metadata": {},
            "source": [
                "### plot A -> B"
            ]
        },
        {
            "cell_type": "code",
            "execution_count": null,
            "metadata": {},
            "outputs": [],
            "source": [
                "fig, axes = plot_linked_pushed_images(\n",
                "    A_test_fixed,\n",
                "    B_test_fixed,\n",
                "    AB_Ts,\n",
                "    gray=GRAY_PLOTS,\n",
                "    plot_trajectory=False,\n",
                "    savefig=True,\n",
                "    save_path=f\"./figs/Exchange/DNOT/{AB_MAP_NAME}/fix\",\n",
                ")"
            ]
        },
        {
            "cell_type": "code",
            "execution_count": null,
            "metadata": {},
            "outputs": [],
            "source": [
                "fig, axes = plot_linked_pushed_random_paired_images(\n",
                "    AB_test_sampler,\n",
                "    AB_Ts,\n",
                "    plot_n_samples=10,\n",
                "    gray=GRAY_PLOTS,\n",
                "    plot_trajectory=False,\n",
                "    savefig=True,\n",
                "    save_path=f\"./figs/Exchange/DNOT/{AB_MAP_NAME}/random\",\n",
                ")"
            ]
        },
        {
            "cell_type": "markdown",
            "metadata": {},
            "source": [
                "## C -> D"
            ]
        },
        {
            "cell_type": "markdown",
            "metadata": {},
            "source": [
                "### init model and load weights"
            ]
        },
        {
            "cell_type": "code",
            "execution_count": null,
            "metadata": {},
            "outputs": [],
            "source": [
                "SEED = 0x3060\n",
                "set_random_seed(SEED)\n",
                "# the step number adding noise in diffusion process\n",
                "DIFFUSION_STEPS = 1000\n",
                "PIVOTAL_LIST = [20, 50, 100]  # [0, 100] for testing,  [0, 20, 50, 100]\n",
                "# training algorithm settings\n",
                "STRATEGY = \"Adapt\"  # 'Fix' or 'Adapt'\n",
                "# model settings\n",
                "UNET_BASE_FACTOR = 48"
            ]
        },
        {
            "cell_type": "code",
            "execution_count": null,
            "metadata": {},
            "outputs": [],
            "source": [
                "EXP_NAME = f\"DNOT_paired_{DATASET}_{STRATEGY}_{SEED}\"\n",
                "LOAD_PATH = f\"../saved_models/{EXP_NAME}/\"\n",
                "\n",
                "if not os.path.exists(LOAD_PATH):\n",
                "    raise FileNotFoundError(\"no such file or directory...\")"
            ]
        },
        {
            "cell_type": "code",
            "execution_count": null,
            "metadata": {},
            "outputs": [],
            "source": [
                "CD_Ts = []\n",
                "\n",
                "for i in range(len(PIVOTAL_LIST) * 2):\n",
                "    T = UNet(DATASET1_CHANNELS, DATASET2_CHANNELS, base_factor=UNET_BASE_FACTOR).cuda()\n",
                "    CD_Ts.append(T)"
            ]
        },
        {
            "cell_type": "code",
            "execution_count": null,
            "metadata": {},
            "outputs": [],
            "source": [
                "print(\"Loading weights\")\n",
                "\n",
                "CKPT_DIR = os.path.join(LOAD_PATH, f\"iter{2000}\")  # user setting\n",
                "for i, T in enumerate(CD_Ts):\n",
                "    w_path = os.path.join(CKPT_DIR, f\"T{i}_{SEED}.pt\")\n",
                "    T.load_state_dict(torch.load(w_path))\n",
                "    print(f\"{w_path}, loaded\")"
            ]
        },
        {
            "cell_type": "markdown",
            "metadata": {},
            "source": [
                "### plot C -> D"
            ]
        },
        {
            "cell_type": "code",
            "execution_count": null,
            "metadata": {},
            "outputs": [],
            "source": [
                "fig, axes = plot_linked_pushed_images(\n",
                "    C_test_fixed,\n",
                "    D_test_fixed,\n",
                "    CD_Ts,\n",
                "    gray=GRAY_PLOTS,\n",
                "    plot_trajectory=False,\n",
                "    savefig=True,\n",
                "    save_path=f\"./figs/Exchange/DNOT/{CD_MAP_NAME}/fix\",\n",
                ")"
            ]
        },
        {
            "cell_type": "code",
            "execution_count": null,
            "metadata": {},
            "outputs": [],
            "source": [
                "fig, axes = plot_linked_pushed_random_paired_images(\n",
                "    CD_test_sampler,\n",
                "    CD_Ts,\n",
                "    plot_n_samples=10,\n",
                "    gray=GRAY_PLOTS,\n",
                "    plot_trajectory=False,\n",
                "    savefig=True,\n",
                "    save_path=f\"./figs/Exchange/DNOT/{CD_MAP_NAME}/random\",\n",
                ")"
            ]
        },
        {
            "cell_type": "markdown",
            "metadata": {},
            "source": [
                "## A -> D"
            ]
        },
        {
            "cell_type": "code",
            "execution_count": null,
            "metadata": {},
            "outputs": [],
            "source": [
                "AD_MAP_NAME = AB_MAP_NAME.split(\"2\")[0] + CD_MAP_NAME.split(\"2\")[1]"
            ]
        },
        {
            "cell_type": "markdown",
            "metadata": {},
            "source": [
                "### init model"
            ]
        },
        {
            "cell_type": "code",
            "execution_count": null,
            "metadata": {},
            "outputs": [],
            "source": [
                "AD_Ts = []\n",
                "AG_T_num = len(AB_Ts) // 2\n",
                "GD_T_num = len(CD_Ts) // 2\n",
                "for i in range(AG_T_num + GD_T_num):\n",
                "    if i < AG_T_num:\n",
                "        AD_Ts.append(AB_Ts[i])\n",
                "    else:\n",
                "        AD_Ts.append(CD_Ts[i])"
            ]
        },
        {
            "cell_type": "markdown",
            "metadata": {},
            "source": [
                "### plot A -> D"
            ]
        },
        {
            "cell_type": "code",
            "execution_count": null,
            "metadata": {},
            "outputs": [],
            "source": [
                "fig, axes = plot_linked_pushed_images(\n",
                "    A_test_fixed,\n",
                "    D_test_fixed,\n",
                "    AD_Ts,\n",
                "    gray=GRAY_PLOTS,\n",
                "    plot_trajectory=False,\n",
                "    savefig=True,\n",
                "    save_path=f\"./figs/Exchange/DNOT/{AD_MAP_NAME}/fix\",\n",
                ")"
            ]
        },
        {
            "cell_type": "code",
            "execution_count": null,
            "metadata": {},
            "outputs": [],
            "source": [
                "A_test_random, _ = AB_test_sampler.sample(10)\n",
                "_, D_test_random = CD_test_sampler.sample(10)\n",
                "\n",
                "fig, axes = plot_linked_pushed_images(\n",
                "    A_test_random,\n",
                "    D_test_random,\n",
                "    AD_Ts,\n",
                "    gray=GRAY_PLOTS,\n",
                "    plot_trajectory=False,\n",
                "    savefig=True,\n",
                "    save_path=f\"./figs/Exchange/DNOT/{AD_MAP_NAME}/random\",\n",
                ")"
            ]
        },
        {
            "cell_type": "markdown",
            "metadata": {},
            "source": [
                "# DENOT"
            ]
        },
        {
            "cell_type": "markdown",
            "metadata": {},
            "source": [
                "## A -> B"
            ]
        },
        {
            "cell_type": "markdown",
            "metadata": {},
            "source": [
                "### init model and load weights"
            ]
        },
        {
            "cell_type": "code",
            "execution_count": null,
            "metadata": {},
            "outputs": [],
            "source": [
                "SEED = 0x3060\n",
                "set_random_seed(SEED)\n",
                "# the step number adding noise in diffusion process\n",
                "DIFFUSION_STEPS = 1000\n",
                "PIVOTAL_LIST = [20, 50, 100]  # [0, 100] for testing,  [0, 20, 50, 100]\n",
                "# training algorithm settings\n",
                "STRATEGY = \"Fix\"  # 'Fix' or 'Adapt'\n",
                "# SDE network settings\n",
                "EPSILON = 0  # [0 , 1, 10]\n",
                "IMAGE_INPUT = True\n",
                "PREDICT_SHIFT = True\n",
                "N_STEPS = 5  # num of shifts time\n",
                "UNET_BASE_FACTOR = 128\n",
                "TIME_DIM = 128\n",
                "USE_POSITIONAL_ENCODING = True\n",
                "ONE_STEP_INIT_ITERS = 0\n",
                "USE_GRADIENT_CHECKPOINT = False\n",
                "N_LAST_STEPS_WITHOUT_NOISE = 1"
            ]
        },
        {
            "cell_type": "code",
            "execution_count": null,
            "metadata": {},
            "outputs": [],
            "source": [
                "EXP_NAME = f\"DENOT_paired_{DATASET}_{STRATEGY}_{SEED}\"\n",
                "LOAD_PATH = f\"../saved_models/{EXP_NAME}/\"\n",
                "\n",
                "if not os.path.exists(LOAD_PATH):\n",
                "    raise FileNotFoundError(\"no such file or directory...\")"
            ]
        },
        {
            "cell_type": "code",
            "execution_count": null,
            "metadata": {},
            "outputs": [],
            "source": [
                "AB_SDEs = []\n",
                "\n",
                "for i in range(len(PIVOTAL_LIST) * 2):\n",
                "    T = CUNet(\n",
                "        DATASET1_CHANNELS, DATASET2_CHANNELS, TIME_DIM, base_factor=UNET_BASE_FACTOR\n",
                "    ).cuda()\n",
                "\n",
                "    T = SDE(\n",
                "        shift_model=T,\n",
                "        epsilon=EPSILON,\n",
                "        n_steps=N_STEPS,\n",
                "        time_dim=TIME_DIM,\n",
                "        n_last_steps_without_noise=N_LAST_STEPS_WITHOUT_NOISE,\n",
                "        use_positional_encoding=USE_POSITIONAL_ENCODING,\n",
                "        use_gradient_checkpoint=USE_GRADIENT_CHECKPOINT,\n",
                "        predict_shift=PREDICT_SHIFT,\n",
                "        image_input=IMAGE_INPUT,\n",
                "    ).cuda()\n",
                "    AB_SDEs.append(T)"
            ]
        },
        {
            "cell_type": "code",
            "execution_count": null,
            "metadata": {},
            "outputs": [],
            "source": [
                "print(\"Loading weights\")\n",
                "\n",
                "CKPT_DIR = os.path.join(LOAD_PATH, f\"iter{10000}/\")  # user setting\n",
                "for i, T in enumerate(AB_SDEs):\n",
                "    T.load_state_dict(torch.load(os.path.join(CKPT_DIR, f\"T{i}_{SEED}.pt\")))\n",
                "    print(f\"{CKPT_DIR}/T{i}_{SEED}.pt, loaded\")"
            ]
        },
        {
            "cell_type": "markdown",
            "metadata": {},
            "source": [
                "### plot A -> B"
            ]
        },
        {
            "cell_type": "code",
            "execution_count": null,
            "metadata": {},
            "outputs": [],
            "source": [
                "fig, axes = plot_linked_sde_pushed_images(\n",
                "    A_test_fixed,\n",
                "    B_test_fixed,\n",
                "    AB_SDEs,\n",
                "    gray=GRAY_PLOTS,\n",
                "    plot_trajectory=False,\n",
                "    savefig=True,\n",
                "    save_path=f\"./figs/Exchange/DENOT/{AB_MAP_NAME}/fix\",\n",
                ")"
            ]
        },
        {
            "cell_type": "code",
            "execution_count": null,
            "metadata": {},
            "outputs": [],
            "source": [
                "fig, axes = plot_linked_sde_pushed_random_paired_images(\n",
                "    AB_test_sampler,\n",
                "    AB_SDEs,\n",
                "    plot_n_samples=10,\n",
                "    gray=GRAY_PLOTS,\n",
                "    plot_trajectory=False,\n",
                "    savefig=True,\n",
                "    save_path=f\"./figs/Exchange/DENOT/{AB_MAP_NAME}/random\",\n",
                ")"
            ]
        },
        {
            "cell_type": "markdown",
            "metadata": {},
            "source": [
                "## C -> D"
            ]
        },
        {
            "cell_type": "markdown",
            "metadata": {},
            "source": [
                "### init model and load weights"
            ]
        },
        {
            "cell_type": "code",
            "execution_count": null,
            "metadata": {},
            "outputs": [],
            "source": [
                "SEED = 0x3060\n",
                "set_random_seed(SEED)\n",
                "# the step number adding noise in diffusion process\n",
                "DIFFUSION_STEPS = 1000\n",
                "PIVOTAL_LIST = [20, 50, 100]  # [0, 100] for testing,  [0, 20, 50, 100]\n",
                "# training algorithm settings\n",
                "STRATEGY = \"Fix\"  # 'Fix' or 'Adapt'\n",
                "# SDE network settings\n",
                "EPSILON = 0  # [0 , 1, 10]\n",
                "IMAGE_INPUT = True\n",
                "PREDICT_SHIFT = True\n",
                "N_STEPS = 5  # num of shifts time\n",
                "UNET_BASE_FACTOR = 128\n",
                "TIME_DIM = 128\n",
                "USE_POSITIONAL_ENCODING = True\n",
                "ONE_STEP_INIT_ITERS = 0\n",
                "USE_GRADIENT_CHECKPOINT = False\n",
                "N_LAST_STEPS_WITHOUT_NOISE = 1"
            ]
        },
        {
            "cell_type": "code",
            "execution_count": null,
            "metadata": {},
            "outputs": [],
            "source": [
                "EXP_NAME = f\"DENOT_paired_{DATASET}_{STRATEGY}_{SEED}\"\n",
                "LOAD_PATH = f\"../saved_models/{EXP_NAME}/\"\n",
                "\n",
                "if not os.path.exists(LOAD_PATH):\n",
                "    raise FileNotFoundError(\"no such file or directory...\")"
            ]
        },
        {
            "cell_type": "code",
            "execution_count": null,
            "metadata": {},
            "outputs": [],
            "source": [
                "CD_SDEs = []\n",
                "\n",
                "for i in range(len(PIVOTAL_LIST) * 2):\n",
                "    T = CUNet(\n",
                "        DATASET1_CHANNELS, DATASET2_CHANNELS, TIME_DIM, base_factor=UNET_BASE_FACTOR\n",
                "    ).cuda()\n",
                "\n",
                "    T = SDE(\n",
                "        shift_model=T,\n",
                "        epsilon=EPSILON,\n",
                "        n_steps=N_STEPS,\n",
                "        time_dim=TIME_DIM,\n",
                "        n_last_steps_without_noise=N_LAST_STEPS_WITHOUT_NOISE,\n",
                "        use_positional_encoding=USE_POSITIONAL_ENCODING,\n",
                "        use_gradient_checkpoint=USE_GRADIENT_CHECKPOINT,\n",
                "        predict_shift=PREDICT_SHIFT,\n",
                "        image_input=IMAGE_INPUT,\n",
                "    ).cuda()\n",
                "    CD_SDEs.append(T)"
            ]
        },
        {
            "cell_type": "code",
            "execution_count": null,
            "metadata": {},
            "outputs": [],
            "source": [
                "print(\"Loading weights\")\n",
                "\n",
                "CKPT_DIR = os.path.join(LOAD_PATH, f\"iter{10000}/\")  # user setting\n",
                "for i, T in enumerate(CD_SDEs):\n",
                "    T.load_state_dict(torch.load(os.path.join(CKPT_DIR, f\"T{i}_{SEED}.pt\")))\n",
                "    print(f\"{CKPT_DIR}/T{i}_{SEED}.pt, loaded\")"
            ]
        },
        {
            "cell_type": "markdown",
            "metadata": {},
            "source": [
                "### plot C -> D"
            ]
        },
        {
            "cell_type": "code",
            "execution_count": null,
            "metadata": {},
            "outputs": [],
            "source": [
                "fig, axes = plot_linked_sde_pushed_images(\n",
                "    C_test_fixed,\n",
                "    D_test_fixed,\n",
                "    CD_SDEs,\n",
                "    gray=GRAY_PLOTS,\n",
                "    plot_trajectory=False,\n",
                "    savefig=True,\n",
                "    save_path=f\"./figs/Exchange/DENOT/{CD_MAP_NAME}/fix\",\n",
                ")"
            ]
        },
        {
            "cell_type": "code",
            "execution_count": null,
            "metadata": {},
            "outputs": [],
            "source": [
                "fig, axes = plot_linked_sde_pushed_random_paired_images(\n",
                "    CD_test_sampler,\n",
                "    CD_SDEs,\n",
                "    plot_n_samples=10,\n",
                "    gray=GRAY_PLOTS,\n",
                "    plot_trajectory=False,\n",
                "    savefig=True,\n",
                "    save_path=f\"./figs/Exchange/DENOT/{CD_MAP_NAME}/random\",\n",
                ")"
            ]
        },
        {
            "cell_type": "markdown",
            "metadata": {},
            "source": [
                "## A -> D"
            ]
        },
        {
            "cell_type": "code",
            "execution_count": null,
            "metadata": {},
            "outputs": [],
            "source": [
                "AD_MAP_NAME = AB_MAP_NAME.split(\"2\")[0] + CD_MAP_NAME.split(\"2\")[1]"
            ]
        },
        {
            "cell_type": "markdown",
            "metadata": {},
            "source": [
                "### init model"
            ]
        },
        {
            "cell_type": "code",
            "execution_count": null,
            "metadata": {},
            "outputs": [],
            "source": [
                "AD_SDEs = []\n",
                "AG_SDE_num = len(AB_SDEs) // 2\n",
                "GD_SDE_num = len(CD_SDEs) // 2\n",
                "for i in range(AG_SDE_num + GD_SDE_num):\n",
                "    if i < AG_T_num:\n",
                "        AD_SDEs.append(AB_SDEs[i])\n",
                "    else:\n",
                "        AD_SDEs.append(CD_SDEs[i])"
            ]
        },
        {
            "cell_type": "markdown",
            "metadata": {},
            "source": [
                "### plot A -> D"
            ]
        },
        {
            "cell_type": "code",
            "execution_count": null,
            "metadata": {},
            "outputs": [],
            "source": [
                "fig, axes = plot_linked_sde_pushed_images(\n",
                "    A_test_fixed,\n",
                "    D_test_fixed,\n",
                "    AD_SDEs,\n",
                "    gray=GRAY_PLOTS,\n",
                "    plot_trajectory=False,\n",
                "    savefig=True,\n",
                "    save_path=f\"./figs/Exchange/DENOT/{AD_MAP_NAME}/fix\",\n",
                ")"
            ]
        },
        {
            "cell_type": "code",
            "execution_count": null,
            "metadata": {},
            "outputs": [],
            "source": [
                "A_test_random, _ = AB_test_sampler.sample(10)\n",
                "_, D_test_random = CD_test_sampler.sample(10)\n",
                "\n",
                "fig, axes = plot_linked_sde_pushed_images(\n",
                "    A_test_random,\n",
                "    D_test_random,\n",
                "    AD_SDEs,\n",
                "    gray=GRAY_PLOTS,\n",
                "    plot_trajectory=False,\n",
                "    savefig=True,\n",
                "    save_path=f\"./figs/Exchange/DENOT/{AD_MAP_NAME}/random\",\n",
                ")"
            ]
        }
    ],
    "metadata": {
        "kernelspec": {
            "display_name": ".venv",
            "language": "python",
            "name": "python3"
        },
        "language_info": {
            "name": "python",
            "version": "3.9.19"
        }
    },
    "nbformat": 4,
    "nbformat_minor": 2
}
